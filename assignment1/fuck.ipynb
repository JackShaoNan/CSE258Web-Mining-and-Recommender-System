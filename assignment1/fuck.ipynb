{
 "cells": [
  {
   "cell_type": "code",
   "execution_count": 3,
   "metadata": {},
   "outputs": [
    {
     "name": "stdout",
     "output_type": "stream",
     "text": [
      "Reading data...\n",
      "Done\n"
     ]
    }
   ],
   "source": [
    "import gzip\n",
    "from collections import defaultdict\n",
    "import numpy as np\n",
    "import random\n",
    "from sklearn.metrics import accuracy_score\n",
    "import matplotlib.pyplot as plt\n",
    "def readGz(f):\n",
    "  for l in gzip.open(f):\n",
    "    yield eval(l)\n",
    "    \n",
    "print \"Reading data...\"\n",
    "data = list(readGz('train.json.gz'))\n",
    "print \"Done\""
   ]
  },
  {
   "cell_type": "code",
   "execution_count": null,
   "metadata": {},
   "outputs": [],
   "source": [
    "# get user info and item info\n",
    "user_info = defaultdict(set) # items user has bought\n",
    "user_cate = defaultdict(set) # category user has bought\n",
    "for d in data:\n",
    "    u = d['reviewerID']\n",
    "    i = d['itemID']\n",
    "    user_info[u].add(i)\n",
    "    for cate in d['categories']:\n",
    "        for c in cate:\n",
    "                user_cate[u].add(c)"
   ]
  },
  {
   "cell_type": "code",
   "execution_count": null,
   "metadata": {},
   "outputs": [],
   "source": [
    "similar_user = defaultdict(set)\n",
    "for u in user_info:\n",
    "    "
   ]
  },
  {
   "cell_type": "code",
   "execution_count": 5,
   "metadata": {},
   "outputs": [],
   "source": [
    "# get similarity\n",
    "def get_simi(u1,u2):\n",
    "    # just use Jaccard similarity: J(A,B) = |A and B| / |A or B|\n",
    "    a_and_b = 0\n",
    "    a_or_b = 0\n",
    "    for cate in user_info[u1]:\n",
    "        if cate in user_info[u2]:\n",
    "            a_and_b += 1\n",
    "        else:\n",
    "            a_or_b += 1\n",
    "    a_or_b += len(user_info[u2])\n",
    "    return a_and_b / (a_or_b * 1.0)"
   ]
  },
  {
   "cell_type": "code",
   "execution_count": 7,
   "metadata": {},
   "outputs": [
    {
     "ename": "KeyboardInterrupt",
     "evalue": "",
     "output_type": "error",
     "traceback": [
      "\u001b[0;31m---------------------------------------------------------------------------\u001b[0m",
      "\u001b[0;31mKeyboardInterrupt\u001b[0m                         Traceback (most recent call last)",
      "\u001b[0;32m<ipython-input-7-596142d1066c>\u001b[0m in \u001b[0;36m<module>\u001b[0;34m()\u001b[0m\n\u001b[1;32m      7\u001b[0m             \u001b[0muser_relation\u001b[0m\u001b[0;34m[\u001b[0m\u001b[0mu1\u001b[0m\u001b[0;34m]\u001b[0m\u001b[0;34m.\u001b[0m\u001b[0madd\u001b[0m\u001b[0;34m(\u001b[0m\u001b[0;34m(\u001b[0m\u001b[0mu2\u001b[0m\u001b[0;34m,\u001b[0m\u001b[0;36m1\u001b[0m\u001b[0;34m)\u001b[0m\u001b[0;34m)\u001b[0m\u001b[0;34m\u001b[0m\u001b[0m\n\u001b[1;32m      8\u001b[0m         \u001b[0;32melse\u001b[0m\u001b[0;34m:\u001b[0m\u001b[0;34m\u001b[0m\u001b[0m\n\u001b[0;32m----> 9\u001b[0;31m             \u001b[0muser_relation\u001b[0m\u001b[0;34m[\u001b[0m\u001b[0mu1\u001b[0m\u001b[0;34m]\u001b[0m\u001b[0;34m.\u001b[0m\u001b[0madd\u001b[0m\u001b[0;34m(\u001b[0m\u001b[0;34m(\u001b[0m\u001b[0mu2\u001b[0m\u001b[0;34m,\u001b[0m\u001b[0mget_simi\u001b[0m\u001b[0;34m(\u001b[0m\u001b[0mu1\u001b[0m\u001b[0;34m,\u001b[0m\u001b[0mu2\u001b[0m\u001b[0;34m)\u001b[0m\u001b[0;34m)\u001b[0m\u001b[0;34m)\u001b[0m\u001b[0;34m\u001b[0m\u001b[0m\n\u001b[0m\u001b[1;32m     10\u001b[0m \u001b[0mt1\u001b[0m \u001b[0;34m=\u001b[0m \u001b[0mtime\u001b[0m\u001b[0;34m.\u001b[0m\u001b[0mctime\u001b[0m\u001b[0;34m(\u001b[0m\u001b[0;34m)\u001b[0m\u001b[0;34m\u001b[0m\u001b[0m\n\u001b[1;32m     11\u001b[0m \u001b[0;32mprint\u001b[0m \u001b[0mstr\u001b[0m\u001b[0;34m(\u001b[0m\u001b[0mt1\u001b[0m\u001b[0;34m)\u001b[0m\u001b[0;34m\u001b[0m\u001b[0m\n",
      "\u001b[0;32m<ipython-input-5-d091e855c743>\u001b[0m in \u001b[0;36mget_simi\u001b[0;34m(u1, u2)\u001b[0m\n\u001b[1;32m      5\u001b[0m     \u001b[0ma_or_b\u001b[0m \u001b[0;34m=\u001b[0m \u001b[0;36m0\u001b[0m\u001b[0;34m\u001b[0m\u001b[0m\n\u001b[1;32m      6\u001b[0m     \u001b[0;32mfor\u001b[0m \u001b[0mcate\u001b[0m \u001b[0;32min\u001b[0m \u001b[0muser_info\u001b[0m\u001b[0;34m[\u001b[0m\u001b[0mu1\u001b[0m\u001b[0;34m]\u001b[0m\u001b[0;34m:\u001b[0m\u001b[0;34m\u001b[0m\u001b[0m\n\u001b[0;32m----> 7\u001b[0;31m         \u001b[0;32mif\u001b[0m \u001b[0mcate\u001b[0m \u001b[0;32min\u001b[0m \u001b[0muser_info\u001b[0m\u001b[0;34m[\u001b[0m\u001b[0mu2\u001b[0m\u001b[0;34m]\u001b[0m\u001b[0;34m:\u001b[0m\u001b[0;34m\u001b[0m\u001b[0m\n\u001b[0m\u001b[1;32m      8\u001b[0m             \u001b[0ma_and_b\u001b[0m \u001b[0;34m+=\u001b[0m \u001b[0;36m1\u001b[0m\u001b[0;34m\u001b[0m\u001b[0m\n\u001b[1;32m      9\u001b[0m         \u001b[0;32melse\u001b[0m\u001b[0;34m:\u001b[0m\u001b[0;34m\u001b[0m\u001b[0m\n",
      "\u001b[0;31mKeyboardInterrupt\u001b[0m: "
     ]
    }
   ],
   "source": [
    "import time\n",
    "t1 = time.ctime()\n",
    "user_relation = defaultdict(set)\n",
    "for u1 in user_info:\n",
    "    for u2 in user_info:\n",
    "        if u1 == u2:\n",
    "            user_relation[u1].add((u2,1))\n",
    "        else:\n",
    "            user_relation[u1].add((u2,get_simi(u1,u2)))\n",
    "t1 = time.ctime()\n",
    "print str(t1)\n",
    "print str(t2)"
   ]
  },
  {
   "cell_type": "code",
   "execution_count": null,
   "metadata": {},
   "outputs": [],
   "source": [
    "# we first get what items user has bought\n",
    "user_item = defaultdict(set)\n",
    "for d in data:\n",
    "    u = d['reviewerID']\n",
    "    user_item[u].add(d['itemID'])"
   ]
  },
  {
   "cell_type": "code",
   "execution_count": null,
   "metadata": {},
   "outputs": [],
   "source": [
    "def will_purchase(u,i,u_r,u_i,k):\n",
    "    # find k closet user, if they has bought i, u will buy i\n",
    "    friends = []\n",
    "    for f in u_r[u]:\n",
    "        friends.appemd(f)\n",
    "    friends = sorted(friends, key=lambda x: x[1], reverse=True)\n",
    "    index = 1\n",
    "    while index <= k:\n",
    "        user = friends[index][0]\n",
    "        for item in u_i[user]:\n",
    "            if item == i:\n",
    "                return 1\n",
    "        index += 1\n",
    "    return 0"
   ]
  },
  {
   "cell_type": "code",
   "execution_count": null,
   "metadata": {},
   "outputs": [],
   "source": [
    "# find the best k\n",
    "\n",
    "# get test data\n",
    "test_data = set()\n",
    "for i in range(1000):\n",
    "    d = random.choice(data)\n",
    "    teat_data.add((d['reviewerID'],d['itemID']))\n",
    "\n",
    "\n",
    "klist = [1, 10, 50, 100, 200, 500, 750, 1500, 3000, 5000]\n",
    "accs = []\n",
    "for k in klist:\n",
    "    acc = 0\n",
    "    for d in test_data:\n",
    "        acc += will_purchase(d[0],d[1],user_relation,user_item,k)\n",
    "    acc /= len(test_data)\n",
    "    accs.append(acc)\n",
    "\n",
    "plt.xlabel(\"k\")\n",
    "plt.ylabel(\"Accuracy\")\n",
    "plt.plot(klist, accs)\n",
    "plt.show()"
   ]
  },
  {
   "cell_type": "code",
   "execution_count": null,
   "metadata": {},
   "outputs": [],
   "source": [
    "# get the prediction\n",
    "predictions = open(\"/Users/nan/Desktop/assign1_pairs_Purchase.txt\", 'w')\n",
    "for l in open(\"pairs_Purchase.txt\"):\n",
    "    if l.startswith(\"reviewerID\"):\n",
    "        #header\n",
    "        predictions.write(l)\n",
    "        continue\n",
    "    u,i = l.strip().split('-')\n",
    "    res = will_purchase(u,i,user_relation,user_item,kkkkkk)\n",
    "    predictions.write(u + '-' + i + ',' + str(res) + '\\n')\n",
    "predictions.close()"
   ]
  },
  {
   "cell_type": "code",
   "execution_count": 2,
   "metadata": {},
   "outputs": [
    {
     "ename": "NameError",
     "evalue": "name 'data' is not defined",
     "output_type": "error",
     "traceback": [
      "\u001b[0;31m---------------------------------------------------------------------------\u001b[0m",
      "\u001b[0;31mNameError\u001b[0m                                 Traceback (most recent call last)",
      "\u001b[0;32m<ipython-input-2-c5d84736ba45>\u001b[0m in \u001b[0;36m<module>\u001b[0;34m()\u001b[0m\n\u001b[0;32m----> 1\u001b[0;31m \u001b[0mdata\u001b[0m\u001b[0;34m\u001b[0m\u001b[0m\n\u001b[0m",
      "\u001b[0;31mNameError\u001b[0m: name 'data' is not defined"
     ]
    }
   ],
   "source": [
    "data"
   ]
  },
  {
   "cell_type": "code",
   "execution_count": null,
   "metadata": {},
   "outputs": [],
   "source": []
  }
 ],
 "metadata": {
  "kernelspec": {
   "display_name": "Python 2",
   "language": "python",
   "name": "python2"
  },
  "language_info": {
   "codemirror_mode": {
    "name": "ipython",
    "version": 2
   },
   "file_extension": ".py",
   "mimetype": "text/x-python",
   "name": "python",
   "nbconvert_exporter": "python",
   "pygments_lexer": "ipython2",
   "version": "2.7.15"
  }
 },
 "nbformat": 4,
 "nbformat_minor": 2
}
