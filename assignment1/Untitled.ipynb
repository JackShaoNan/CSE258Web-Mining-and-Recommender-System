{
 "cells": [
  {
   "cell_type": "code",
   "execution_count": 1,
   "metadata": {},
   "outputs": [
    {
     "name": "stdout",
     "output_type": "stream",
     "text": [
      "Reading data...\n",
      "Done\n"
     ]
    }
   ],
   "source": [
    "import gzip\n",
    "from collections import defaultdict\n",
    "import numpy as np\n",
    "import random\n",
    "from sklearn.metrics import accuracy_score\n",
    "import matplotlib.pyplot as plt\n",
    "def readGz(f):\n",
    "  for l in gzip.open(f):\n",
    "    yield eval(l)\n",
    "    \n",
    "print \"Reading data...\"\n",
    "data = list(readGz('train.json.gz'))\n",
    "print \"Done\""
   ]
  },
  {
   "cell_type": "code",
   "execution_count": 73,
   "metadata": {},
   "outputs": [],
   "source": [
    "# get user info and item info\n",
    "user_info = defaultdict(set) # items user has bought\n",
    "user_cate = defaultdict(set) # category user has bought\n",
    "item_cate = defaultdict(set)\n",
    "for d in data:\n",
    "    u = d['reviewerID']\n",
    "    i = d['itemID']\n",
    "    user_info[u].add(i)"
   ]
  },
  {
   "cell_type": "code",
   "execution_count": 74,
   "metadata": {},
   "outputs": [],
   "source": [
    "for d in data:\n",
    "    u = d['reviewerID']\n",
    "    i = d['itemID']\n",
    "    for cate in d['categories']:\n",
    "        for c in cate:\n",
    "            user_cate[u].add(c)\n",
    "            item_cate[i].add(c)"
   ]
  },
  {
   "cell_type": "code",
   "execution_count": 75,
   "metadata": {},
   "outputs": [],
   "source": [
    "item_users = defaultdict(set)\n",
    "for d in data:\n",
    "    i = d['itemID']\n",
    "    u = d['reviewerID']\n",
    "    item_users[i].add(u)"
   ]
  },
  {
   "cell_type": "code",
   "execution_count": 76,
   "metadata": {},
   "outputs": [],
   "source": [
    "similar_user = defaultdict(set)\n",
    "for u in user_info:\n",
    "    for i in user_info[u]:\n",
    "        for user in item_users[i]:\n",
    "            if not user == u:\n",
    "                similar_user[u].add(user)"
   ]
  },
  {
   "cell_type": "code",
   "execution_count": 77,
   "metadata": {},
   "outputs": [],
   "source": [
    "# get similarity between two users\n",
    "def get_simi(u1,u2):\n",
    "    # just use Jaccard similarity: J(A,B) = |A and B| / |A or B|\n",
    "    a_and_b = 0\n",
    "    a_or_b = 0\n",
    "    for cate in user_cate[u1]:\n",
    "        if cate in user_cate[u2]:\n",
    "            a_and_b += 1\n",
    "        else:\n",
    "            a_or_b += 1\n",
    "    a_or_b += len(user_cate[u2])\n",
    "    return a_and_b / (a_or_b * 1.0)"
   ]
  },
  {
   "cell_type": "code",
   "execution_count": 78,
   "metadata": {},
   "outputs": [],
   "source": [
    "# get similarity between user and  item\n",
    "def get_simi_ui(u,i):\n",
    "    # just use Jaccard similarity: J(A,B) = |A and B| / |A or B|\n",
    "    a_and_b = 0\n",
    "    a_or_b = 0\n",
    "    for cate in user_cate[u]:\n",
    "        if cate in item_cate[i]:\n",
    "            a_and_b += 1\n",
    "        else:\n",
    "            a_or_b += 1\n",
    "    a_or_b += len(item_cate[i])\n",
    "    return a_and_b / (a_or_b * 1.0)"
   ]
  },
  {
   "cell_type": "code",
   "execution_count": 79,
   "metadata": {},
   "outputs": [
    {
     "name": "stdout",
     "output_type": "stream",
     "text": [
      "Sun Nov 18 10:09:19 2018\n",
      "Sun Nov 18 10:10:01 2018\n"
     ]
    }
   ],
   "source": [
    "import time\n",
    "t1 = time.ctime()\n",
    "user_relation = defaultdict(set)\n",
    "for u1 in user_info:\n",
    "    for u2 in similar_user[u1]:\n",
    "        user_relation[u1].add((u2,get_simi(u1,u2)))\n",
    "t2 = time.ctime()\n",
    "print str(t1)\n",
    "print str(t2)"
   ]
  },
  {
   "cell_type": "code",
   "execution_count": 83,
   "metadata": {},
   "outputs": [],
   "source": [
    "# input: user, item, user_relation,k\n",
    "def will_purchase(u,i,u_r,k):\n",
    "    if (u not in user_info) or (i not in item_users):\n",
    "        return random.randint(0,1)\n",
    "    # find k closet item, if they has been bought by u, i will bought by u\n",
    "    friends = []\n",
    "    for f in u_r[i]:\n",
    "        friends.append(f)\n",
    "    friends = sorted(friends, key=lambda x: x[1], reverse=True)\n",
    "    index = 0\n",
    "    if k > len(friends):\n",
    "        k = len(friends)\n",
    "    while index < k:\n",
    "        user = friends[index][0]\n",
    "        if get_simi_ui(user,i) > 0:\n",
    "            return 1\n",
    "        index += 1\n",
    "    return 0"
   ]
  },
  {
   "cell_type": "code",
   "execution_count": 84,
   "metadata": {},
   "outputs": [],
   "source": [
    "# get test data\n",
    "test_data = []\n",
    "\n",
    "for i in range(1000):\n",
    "    d = random.choice(data)\n",
    "    test_data.append((d['reviewerID'],d['itemID']))\n",
    "\n",
    "for i in range(1000):\n",
    "    while 1:\n",
    "        d1 = random.choice(data)\n",
    "        d2 = random.choice(data)\n",
    "        u = d1['reviewerID']\n",
    "        i = d2['itemID']\n",
    "        if u not in item_users[i]:\n",
    "            test_data.append((u,i))\n",
    "            break"
   ]
  },
  {
   "cell_type": "code",
   "execution_count": 85,
   "metadata": {},
   "outputs": [
    {
     "data": {
      "image/png": "[encoded data removed]",
      "text/plain": [
       "<Figure size 432x288 with 1 Axes>"
      ]
     },
     "metadata": {
      "needs_background": "light"
     },
     "output_type": "display_data"
    },
    {
     "name": "stdout",
     "output_type": "stream",
     "text": [
      "max acc:0.5\n",
      "k: 1\n"
     ]
    }
   ],
   "source": [
    "# find the best k\n",
    "\n",
    "\n",
    "klist = [1, 10, 50, 100, 200, 500, 1000, 1500, 2000]\n",
    "accs = []\n",
    "for k in klist:\n",
    "    acc = 0\n",
    "    for d in test_data[:1000]:\n",
    "        acc += will_purchase(d[0],d[1],user_relation,k)\n",
    "    for d in test_data[1000:]:\n",
    "        acc += (1-will_purchase(d[0],d[1],user_relation,k))\n",
    "    acc /= (len(test_data) * 1.0)\n",
    "    accs.append(acc)\n",
    "\n",
    "plt.xlabel(\"k\")\n",
    "plt.ylabel(\"Accuracy\")\n",
    "plt.plot(klist, accs)\n",
    "plt.show()\n",
    "print \"max acc:\" + str(max(accs))\n",
    "print \"k: \" + str(klist[accs.index(max(accs))])"
   ]
  },
  {
   "cell_type": "code",
   "execution_count": 42,
   "metadata": {},
   "outputs": [],
   "source": [
    "# get the prediction\n",
    "predictions = open(\"/Users/nan/Desktop/assign1_pairs_Purchase.txt\", 'w')\n",
    "for l in open(\"pairs_Purchase.txt\"):\n",
    "    if l.startswith(\"reviewerID\"):\n",
    "        #header\n",
    "        predictions.write(l)\n",
    "        continue\n",
    "    u,i = l.strip().split('-')\n",
    "    res = will_purchase(u,i,user_relation,user_info,10)\n",
    "    predictions.write(u + '-' + i + ',' + str(res) + '\\n')\n",
    "predictions.close()"
   ]
  },
  {
   "cell_type": "code",
   "execution_count": 39,
   "metadata": {},
   "outputs": [
    {
     "data": {
      "text/plain": [
       "0"
      ]
     },
     "execution_count": 39,
     "metadata": {},
     "output_type": "execute_result"
    }
   ],
   "source": [
    "n = 2300\n",
    "for d in user_relation:\n",
    "    if len(user_relation[d]) < n:\n",
    "        n = len(user_relation[d])\n",
    "n"
   ]
  },
  {
   "cell_type": "code",
   "execution_count": 66,
   "metadata": {},
   "outputs": [
    {
     "data": {
      "text/plain": [
       "0.0"
      ]
     },
     "execution_count": 66,
     "metadata": {},
     "output_type": "execute_result"
    }
   ],
   "source": [
    "get_simi_ui('U844197134','I006212764')"
   ]
  },
  {
   "cell_type": "code",
   "execution_count": null,
   "metadata": {},
   "outputs": [],
   "source": []
  }
 ],
 "metadata": {
  "kernelspec": {
   "display_name": "Python 2",
   "language": "python",
   "name": "python2"
  },
  "language_info": {
   "codemirror_mode": {
    "name": "ipython",
    "version": 2
   },
   "file_extension": ".py",
   "mimetype": "text/x-python",
   "name": "python",
   "nbconvert_exporter": "python",
   "pygments_lexer": "ipython2",
   "version": "2.7.15"
  }
 },
 "nbformat": 4,
 "nbformat_minor": 2
}
