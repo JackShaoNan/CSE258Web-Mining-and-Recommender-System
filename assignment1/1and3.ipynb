{
 "cells": [
  {
   "cell_type": "code",
   "execution_count": 1,
   "metadata": {},
   "outputs": [
    {
     "name": "stdout",
     "output_type": "stream",
     "text": [
      "Reading data...\n",
      "Done\n"
     ]
    }
   ],
   "source": [
    "import gzip\n",
    "from collections import defaultdict\n",
    "import numpy as np\n",
    "import random\n",
    "from sklearn.metrics import accuracy_score\n",
    "import matplotlib.pyplot as plt\n",
    "def readGz(f):\n",
    "  for l in gzip.open(f):\n",
    "    yield eval(l)\n",
    "    \n",
    "print \"Reading data...\"\n",
    "data = list(readGz('train.json.gz'))\n",
    "print \"Done\""
   ]
  },
  {
   "cell_type": "code",
   "execution_count": 10,
   "metadata": {},
   "outputs": [],
   "source": [
    "train = data[:100000]\n",
    "valid = data[100000:]\n",
    "\n",
    "user_item = defaultdict(set)\n",
    "user = set()\n",
    "item = set()\n",
    "for d in train:\n",
    "    user.add(d['reviewerID'])\n",
    "    item.add(d['itemID'])\n",
    "    user_item[d['reviewerID']].add(d['itemID'])"
   ]
  },
  {
   "cell_type": "code",
   "execution_count": 12,
   "metadata": {},
   "outputs": [
    {
     "name": "stdout",
     "output_type": "stream",
     "text": [
      "10000\n",
      "20000\n",
      "30000\n",
      "40000\n",
      "50000\n",
      "60000\n",
      "70000\n",
      "80000\n",
      "90000\n",
      "100000\n"
     ]
    }
   ],
   "source": [
    "non_user_item = defaultdict(set)\n",
    "count = 0\n",
    "while count < 100000:\n",
    "    u = random.choice(tuple(user))\n",
    "    i = random.choice(tuple(item))\n",
    "    if i not in user_item[u]:\n",
    "        non_user_item[u].add(i)\n",
    "        count += 1\n",
    "        if count % 10000 == 0:\n",
    "            print str(count)"
   ]
  },
  {
   "cell_type": "code",
   "execution_count": 19,
   "metadata": {},
   "outputs": [],
   "source": [
    "businessCount = defaultdict(int)\n",
    "totalPurchases = 0\n",
    "\n",
    "for l in readGz(\"train.json.gz\"):\n",
    "  user,business = l['reviewerID'],l['itemID']\n",
    "  businessCount[business] += 1\n",
    "  totalPurchases += 1\n",
    "\n",
    "mostPopular = [(businessCount[x], x) for x in businessCount]\n",
    "mostPopular.sort()\n",
    "mostPopular.reverse()\n",
    "\n",
    "return1 = set()\n",
    "count = 0\n",
    "for ic, i in mostPopular:\n",
    "  count += ic\n",
    "  return1.add(i)\n",
    "  if count > totalPurchases/2: break"
   ]
  },
  {
   "cell_type": "code",
   "execution_count": 20,
   "metadata": {},
   "outputs": [
    {
     "name": "stdout",
     "output_type": "stream",
     "text": [
      "acc : 0.64753\n"
     ]
    }
   ],
   "source": [
    "new_valid = []\n",
    "for u in non_user_item:\n",
    "    for i in non_user_item[u]:\n",
    "        new_valid.append((u,i))\n",
    "for d in valid:\n",
    "    new_valid.append((d['reviewerID'],d['itemID']))\n",
    "    \n",
    "y_valid = []\n",
    "for i in range(100000):\n",
    "    y_valid.append(0)\n",
    "for i in range(100000):\n",
    "    y_valid.append(1)\n",
    "\n",
    "correct = 0;\n",
    "for i in range(200000):\n",
    "    d = new_valid[i]\n",
    "    y = y_valid[i]\n",
    "    if d[1] in return1 and y == 1:\n",
    "        correct += 1\n",
    "    elif d[1] not in return1 and y == 0:\n",
    "        correct += 1\n",
    "        \n",
    "print \"acc : \" + str(correct * 1.0 / 200000)"
   ]
  },
  {
   "cell_type": "code",
   "execution_count": 21,
   "metadata": {},
   "outputs": [],
   "source": [
    "def predict(threshold):\n",
    "    return1 = set()\n",
    "    count = 0\n",
    "    for ic, i in mostPopular:\n",
    "        count += ic\n",
    "        return1.add(i)\n",
    "        if count > totalPurchases * threshold: break\n",
    "    correct = 0;\n",
    "    for i in range(200000):\n",
    "        d = new_valid[i]\n",
    "        y = y_valid[i]\n",
    "        if d[1] in return1 and y == 1:\n",
    "            correct += 1\n",
    "        elif d[1] not in return1 and y == 0:\n",
    "            correct += 1\n",
    "    return correct * 1.0 / 200000"
   ]
  },
  {
   "cell_type": "code",
   "execution_count": 22,
   "metadata": {},
   "outputs": [
    {
     "data": {
      "image/png": "[encoded data removed]",
      "text/plain": [
       "<Figure size 432x288 with 1 Axes>"
      ]
     },
     "metadata": {
      "needs_background": "light"
     },
     "output_type": "display_data"
    }
   ],
   "source": [
    "acc = []\n",
    "for i in range(100):\n",
    "    acc.append(predict(i / 100.0))\n",
    "plt.xlabel(\"Threshold\")\n",
    "plt.ylabel(\"Accuracy\")\n",
    "plt.plot(np.array(range(len(acc))) / 100., acc)\n",
    "plt.show()"
   ]
  },
  {
   "cell_type": "code",
   "execution_count": 23,
   "metadata": {},
   "outputs": [
    {
     "name": "stdout",
     "output_type": "stream",
     "text": [
      "Maximum accuracy: 0.650835\n",
      "Threshold for max: 57\n"
     ]
    }
   ],
   "source": [
    "print \"Maximum accuracy:\" , max(acc)\n",
    "print \"Threshold for max:\", acc.index(max(acc))"
   ]
  },
  {
   "cell_type": "code",
   "execution_count": 43,
   "metadata": {},
   "outputs": [],
   "source": [
    "user_category = defaultdict(list)\n",
    "item_category = defaultdict(list)\n",
    "for d in train:\n",
    "    u = d['reviewerID']\n",
    "    i = d['itemID']\n",
    "    for c in d['categories']:\n",
    "        for cc in c:\n",
    "            user_category[u].append(cc)\n",
    "            item_category[i].append(cc)\n",
    "        \n",
    "def pre_by_cate(u,i):\n",
    "    count = 0\n",
    "    for c in item_category[i]:\n",
    "        if c in user_category[u]:\n",
    "            count += 1\n",
    "    if count >= 5:\n",
    "        return 1\n",
    "    return 0"
   ]
  },
  {
   "cell_type": "code",
   "execution_count": 44,
   "metadata": {},
   "outputs": [],
   "source": [
    "return1 = set()\n",
    "count = 0\n",
    "for ic, i in mostPopular:\n",
    "    count += ic\n",
    "    return1.add(i)\n",
    "    if count > totalPurchases * 0.57: break\n",
    "def pre_max(i):     \n",
    "    if i in return1:\n",
    "        return 1\n",
    "    else:\n",
    "        return 0"
   ]
  },
  {
   "cell_type": "code",
   "execution_count": 45,
   "metadata": {},
   "outputs": [],
   "source": [
    "predictions = open(\"/Users/nan/Desktop/pairs_Purchase.txt\", 'w')\n",
    "for l in open(\"pairs_Purchase.txt\"):\n",
    "    if l.startswith(\"reviewerID\"):\n",
    "        #header\n",
    "        predictions.write(l)\n",
    "        continue\n",
    "    u,i = l.strip().split('-')\n",
    "    res = pre_by_cate(u,i)\n",
    "    if res == 0:\n",
    "        res = pre_max(i)\n",
    "    predictions.write(u + '-' + i + ',' + str(res) + '\\n')\n",
    "predictions.close()"
   ]
  },
  {
   "cell_type": "code",
   "execution_count": 39,
   "metadata": {},
   "outputs": [
    {
     "data": {
      "text/plain": [
       "10.0"
      ]
     },
     "execution_count": 39,
     "metadata": {},
     "output_type": "execute_result"
    }
   ],
   "source": [
    "np.mean([len(d) for d in user_category] )"
   ]
  },
  {
   "cell_type": "code",
   "execution_count": 63,
   "metadata": {},
   "outputs": [
    {
     "data": {
      "text/plain": [
       "{'categories': [['Clothing, Shoes & Jewelry',\n",
       "   'Women',\n",
       "   'Clothing',\n",
       "   'Active',\n",
       "   'Athletic Socks']],\n",
       " 'categoryID': 0,\n",
       " 'helpful': {'nHelpful': 0, 'outOf': 0},\n",
       " 'itemID': 'I740935639',\n",
       " 'price': 16.55,\n",
       " 'rating': 5.0,\n",
       " 'reviewHash': 'R733487561',\n",
       " 'reviewText': 'I have really enjoyed the Heat Holders Thermal Socks as I tend to get cold feet in the winter months...every winter without fail...I liked them so much I bought a pair for my husband who has a similar problem and he likes them too...It is not fun getting older but the socks help!!',\n",
       " 'reviewTime': '03 30, 2014',\n",
       " 'reviewerID': 'U749984810',\n",
       " 'summary': 'Great for Cold Feet....',\n",
       " 'unixReviewTime': 1396137600}"
      ]
     },
     "execution_count": 63,
     "metadata": {},
     "output_type": "execute_result"
    }
   ],
   "source": [
    "data[7]"
   ]
  },
  {
   "cell_type": "code",
   "execution_count": 66,
   "metadata": {},
   "outputs": [
    {
     "data": {
      "text/plain": [
       "{'categories': [['Clothing, Shoes & Jewelry', 'S', 'Speedo'],\n",
       "  ['Clothing, Shoes & Jewelry', 'Men', 'Clothing', 'Swim', 'Trunks']],\n",
       " 'categoryID': 1,\n",
       " 'helpful': {'nHelpful': 0, 'outOf': 0},\n",
       " 'itemID': 'I900017777',\n",
       " 'rating': 5.0,\n",
       " 'reviewHash': 'R546841885',\n",
       " 'reviewText': 'I purchased these for a beach vacation and they are great. They look great and the material dries really quickly when you come out of the pool. Also the color does not fade. The only thing I will say is that I am a big guy and the XXL is more like 3XL, but it has a great elastic and pull cord so no worries about it coming off in the pool :) I have since bought another in XL.',\n",
       " 'reviewTime': '06 7, 2013',\n",
       " 'reviewerID': 'U354249265',\n",
       " 'summary': 'These are great shorts!!',\n",
       " 'unixReviewTime': 1370563200}"
      ]
     },
     "execution_count": 66,
     "metadata": {},
     "output_type": "execute_result"
    }
   ],
   "source": [
    "data[888]"
   ]
  },
  {
   "cell_type": "code",
   "execution_count": null,
   "metadata": {},
   "outputs": [],
   "source": []
  }
 ],
 "metadata": {
  "kernelspec": {
   "display_name": "Python 2",
   "language": "python",
   "name": "python2"
  },
  "language_info": {
   "codemirror_mode": {
    "name": "ipython",
    "version": 2
   },
   "file_extension": ".py",
   "mimetype": "text/x-python",
   "name": "python",
   "nbconvert_exporter": "python",
   "pygments_lexer": "ipython2",
   "version": "2.7.15"
  }
 },
 "nbformat": 4,
 "nbformat_minor": 2
}
