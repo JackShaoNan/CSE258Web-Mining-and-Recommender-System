{
 "cells": [
  {
   "cell_type": "code",
   "execution_count": 1,
   "metadata": {},
   "outputs": [
    {
     "name": "stdout",
     "output_type": "stream",
     "text": [
      "Reading data...\n",
      "Done\n"
     ]
    }
   ],
   "source": [
    "import gzip\n",
    "from collections import defaultdict\n",
    "import numpy as np\n",
    "import random\n",
    "from sklearn.metrics import accuracy_score\n",
    "import matplotlib.pyplot as plt\n",
    "def readGz(f):\n",
    "  for l in gzip.open(f):\n",
    "    yield eval(l)\n",
    "    \n",
    "print \"Reading data...\"\n",
    "data = list(readGz('train.json.gz'))\n",
    "print \"Done\""
   ]
  },
  {
   "cell_type": "code",
   "execution_count": 2,
   "metadata": {},
   "outputs": [],
   "source": [
    "train = data[:100000]\n",
    "valid = data[100000:]"
   ]
  },
  {
   "cell_type": "code",
   "execution_count": 20,
   "metadata": {},
   "outputs": [],
   "source": [
    "beta_user = defaultdict(float)\n",
    "beta_item = defaultdict(float)\n",
    "alp = 0\n",
    "lamb = 1\n",
    "userrating = defaultdict(lambda: defaultdict(int)) \n",
    "businessrating = defaultdict(lambda: defaultdict(int)) \n",
    "for d in train:\n",
    "    uu,bb = d['reviewerID'],d['itemID']\n",
    "    userrating[uu][bb] = d['rating']\n",
    "    businessrating[bb][uu] = d['rating']\n",
    "    beta_user[uu] = 0\n",
    "    beta_item[bb] = 0"
   ]
  },
  {
   "cell_type": "code",
   "execution_count": 21,
   "metadata": {},
   "outputs": [],
   "source": [
    "def fun8(lamb):\n",
    "    times = 50\n",
    "    for i in range(times):\n",
    "        alp = 0\n",
    "        for uu in userrating:\n",
    "            for bb in userrating[uu]:\n",
    "                alp += userrating[uu][bb] - (beta_user[uu] + beta_item[bb])\n",
    "        alp /= len(train)\n",
    "        for uu in userrating: \n",
    "            beta_user[uu] = 0\n",
    "            for bb in userrating[uu]:\n",
    "                beta_user[uu] += userrating[uu][bb] - (alp + beta_item[bb])\n",
    "            beta_user[uu] /= (lamb + len(userrating[uu]))\n",
    "        for bb in businessrating:\n",
    "            beta_item[bb] = 0\n",
    "            for uu in businessrating[bb]:\n",
    "                beta_item[bb] += businessrating[bb][uu] - (alp + beta_user[uu])\n",
    "            beta_item[bb] /= (lamb + len(businessrating[bb]))\n",
    "        mse = 0\n",
    "        for uu in userrating:\n",
    "            for bb in userrating[uu]:\n",
    "                mse += (alp + beta_user[uu] + beta_item[bb] - userrating[uu][bb]) **2\n",
    "        mse /= len(train)\n",
    "\n",
    "    validation_user = defaultdict(lambda: defaultdict(int)) \n",
    "    validation_business = defaultdict(lambda: defaultdict(int)) \n",
    "    for d in valid:\n",
    "        uu, bb = d['reviewerID'], d['itemID']\n",
    "        validation_user[uu][bb] = d['rating']\n",
    "        validation_business[bb][uu] = d['rating']\n",
    "    mse = 0\n",
    "    for uu in validation_user:\n",
    "        for bb in validation_user[uu]:\n",
    "            mse += ((alp + (beta_user[uu] if uu in beta_user else 0) + \n",
    "                   (beta_item[bb] if bb in beta_item else 0) - \n",
    "                    validation_user[uu][bb]) **2)\n",
    "\n",
    "    mse /= len(valid)\n",
    "    return mse"
   ]
  },
  {
   "cell_type": "code",
   "execution_count": 22,
   "metadata": {},
   "outputs": [
    {
     "data": {
      "text/plain": [
       "1.1416030979547096"
      ]
     },
     "execution_count": 22,
     "metadata": {},
     "output_type": "execute_result"
    }
   ],
   "source": [
    "fun8(10.0)"
   ]
  },
  {
   "cell_type": "code",
   "execution_count": 109,
   "metadata": {},
   "outputs": [],
   "source": [
    "g_u = defaultdict(float)\n",
    "g_i = defaultdict(float)\n",
    "for d in train:\n",
    "    uu,bb = d['reviewerID'],d['itemID']\n",
    "    g_u[uu] = np.random.normal(0.0,.1)#random.uniform(-.5,.5)\n",
    "    g_i[bb] = np.random.normal(0.0,.1)#random.uniform(-.5,.5)"
   ]
  },
  {
   "cell_type": "code",
   "execution_count": 110,
   "metadata": {},
   "outputs": [],
   "source": [
    "def fun88(lamb):\n",
    "    times = 50\n",
    "    for i in range(times):\n",
    "        alp = 0\n",
    "        for uu in userrating:\n",
    "            for bb in userrating[uu]:\n",
    "                alp += userrating[uu][bb] - (beta_user[uu] + beta_item[bb] + g_u[uu]*g_i[bb])\n",
    "        alp /= len(train)\n",
    "        for uu in userrating: \n",
    "            beta_user[uu] = 0\n",
    "            for bb in userrating[uu]:\n",
    "                beta_user[uu] += userrating[uu][bb] - (alp + beta_item[bb] + g_u[uu]*g_i[bb])\n",
    "            beta_user[uu] /= (lamb + len(userrating[uu]))\n",
    "        for bb in businessrating:\n",
    "            beta_item[bb] = 0\n",
    "            for uu in businessrating[bb]:\n",
    "                beta_item[bb] += businessrating[bb][uu] - (alp + beta_user[uu] + g_u[uu]*g_i[bb])\n",
    "            beta_item[bb] /= (lamb + len(businessrating[bb]))\n",
    "        for uu in userrating:\n",
    "            g_u[uu] = np.random.normal(0.0,.1)#random.uniform(-.5,.5)\n",
    "            for bb in userrating[uu]:\n",
    "                g_u[uu] += g_i[bb] * (userrating[uu][bb] - (alp + beta_user[uu] + beta_item[bb] + g_u[uu]*g_i[bb]))\n",
    "            g_u[uu] /= lamb\n",
    "        for bb in businessrating:\n",
    "            g_i[bb] = np.random.normal(0.0,.1)#random.uniform(-.5,.5)\n",
    "            for uu in businessrating[bb]:\n",
    "                g_i[bb] += g_u[uu] * (businessrating[bb][uu] - (alp + beta_user[uu] + beta_item[bb] + g_u[uu]*g_i[bb]))\n",
    "            g_i[bb] /= lamb\n",
    "        mse = 0\n",
    "        for uu in userrating:\n",
    "            for bb in userrating[uu]:\n",
    "                mse += (alp + beta_user[uu] + beta_item[bb] - userrating[uu][bb]) **2\n",
    "        mse /= len(train)\n",
    "\n",
    "    validation_user = defaultdict(lambda: defaultdict(int)) \n",
    "    validation_business = defaultdict(lambda: defaultdict(int)) \n",
    "    for d in valid:\n",
    "        uu, bb = d['reviewerID'], d['itemID']\n",
    "        validation_user[uu][bb] = d['rating']\n",
    "        validation_business[bb][uu] = d['rating']\n",
    "    mse = 0\n",
    "    for uu in validation_user:\n",
    "        for bb in validation_user[uu]:\n",
    "            mse += ((alp + (beta_user[uu] if uu in beta_user else 0) + \n",
    "                   (beta_item[bb] if bb in beta_item else 0) + \n",
    "                     (g_u[uu] if uu in g_u else 0) * (g_i[bb] if bb in g_i else 0) - \n",
    "                    validation_user[uu][bb]) **2)\n",
    "\n",
    "    mse /= len(valid)\n",
    "    return mse, alp, beta_user, beta_item, g_u, g_i"
   ]
  },
  {
   "cell_type": "code",
   "execution_count": 25,
   "metadata": {},
   "outputs": [
    {
     "data": {
      "text/plain": [
       "1.1416230899180426"
      ]
     },
     "execution_count": 25,
     "metadata": {},
     "output_type": "execute_result"
    }
   ],
   "source": [
    "fun88(10.0)"
   ]
  },
  {
   "cell_type": "code",
   "execution_count": 10,
   "metadata": {},
   "outputs": [
    {
     "name": "stdout",
     "output_type": "stream",
     "text": [
      "nan\t0.0001\n",
      "nan\t0.001\n",
      "nan\t0.01\n",
      "nan\t0.1\n",
      "nan\t1.0\n",
      "nan\t10.0\n",
      "nan\t100.0\n",
      "nan\t1000.0\n",
      "nan\t10000.0\n"
     ]
    }
   ],
   "source": [
    "# find the best lamb\n",
    "lambdas = [0.0001, 0.001, 0.01, 0.1, 1.0, 10.0, 100.0, 1000.0, 10000.0]\n",
    "mse = []\n",
    "for l in lambdas:\n",
    "    mse.append(fun88(l))\n",
    "for i in range(len(mse)):\n",
    "    m = mse[i]\n",
    "    l = lambdas[i]\n",
    "    print str(m) +'\\t'+ str(l)"
   ]
  },
  {
   "cell_type": "code",
   "execution_count": 27,
   "metadata": {},
   "outputs": [
    {
     "data": {
      "text/plain": [
       "nan"
      ]
     },
     "execution_count": 27,
     "metadata": {},
     "output_type": "execute_result"
    }
   ],
   "source": [
    "fun88(10.0)"
   ]
  },
  {
   "cell_type": "code",
   "execution_count": 111,
   "metadata": {},
   "outputs": [],
   "source": [
    "train = data[:199999]\n",
    "valid = data[199999:]"
   ]
  },
  {
   "cell_type": "code",
   "execution_count": 112,
   "metadata": {},
   "outputs": [],
   "source": [
    "def init():\n",
    "    \n",
    "    alp = 0\n",
    "    lamb = 1\n",
    "     \n",
    "    for d in train:\n",
    "        uu,bb = d['reviewerID'],d['itemID']\n",
    "        userrating[uu][bb] = d['rating']\n",
    "        businessrating[bb][uu] = d['rating']\n",
    "        beta_user[uu] = 0\n",
    "        beta_item[bb] = 0\n",
    "    \n",
    "    for d in train:\n",
    "        uu,bb = d['reviewerID'],d['itemID']\n",
    "        g_u[uu] = np.random.normal(0.0,.1)#random.uniform(-.5,.5)\n",
    "        g_i[bb] = np.random.normal(0.0,.1)#random.uniform(-.5,.5)"
   ]
  },
  {
   "cell_type": "code",
   "execution_count": 113,
   "metadata": {},
   "outputs": [],
   "source": [
    "m = []\n",
    "alpha = []\n",
    "bu = []\n",
    "bi = []\n",
    "gu = []\n",
    "gi = []\n",
    "beta_user = defaultdict(float)\n",
    "beta_item = defaultdict(float)\n",
    "userrating = defaultdict(lambda: defaultdict(int)) \n",
    "businessrating = defaultdict(lambda: defaultdict(int))\n",
    "g_u = defaultdict(float)\n",
    "g_i = defaultdict(float)"
   ]
  },
  {
   "cell_type": "code",
   "execution_count": 114,
   "metadata": {},
   "outputs": [],
   "source": [
    "def rating(lam1, lam2):\n",
    "    \n",
    "    init()\n",
    "    mse1 = fun8(lam1)\n",
    "    print \"mse1 : \" + str(mse1)\n",
    "    mse2, a, b_u, b_i, g_u, g_i =  fun88(lam2)\n",
    "    m.append(mse2)\n",
    "    alpha.append(a)\n",
    "    bu.append(b_u)\n",
    "    bi.append(b_i)\n",
    "    gu.append(g_u)\n",
    "    gi.append(g_i)\n",
    "    print \"mse2 : \" + str(mse2)"
   ]
  },
  {
   "cell_type": "code",
   "execution_count": 36,
   "metadata": {},
   "outputs": [
    {
     "name": "stdout",
     "output_type": "stream",
     "text": [
      "mse1 : 1.14160309795\n",
      "mse2 : 1.14162814744\n"
     ]
    }
   ],
   "source": [
    "rating(10.0, 10.0)"
   ]
  },
  {
   "cell_type": "code",
   "execution_count": 41,
   "metadata": {},
   "outputs": [
    {
     "name": "stdout",
     "output_type": "stream",
     "text": [
      "mse1 : 1.14160309795\n",
      "mse2 : nan\n"
     ]
    }
   ],
   "source": [
    "rating(10.0, 1.0)"
   ]
  },
  {
   "cell_type": "code",
   "execution_count": 45,
   "metadata": {},
   "outputs": [
    {
     "name": "stdout",
     "output_type": "stream",
     "text": [
      "mse1 : 1.14160309795\n",
      "mse2 : 1.14159221695\n"
     ]
    }
   ],
   "source": [
    "rating(10.0, 10.0)"
   ]
  },
  {
   "cell_type": "code",
   "execution_count": 47,
   "metadata": {},
   "outputs": [
    {
     "name": "stdout",
     "output_type": "stream",
     "text": [
      "mse1 : 1.14160309795\n",
      "mse2 : 1.19982484824\n"
     ]
    }
   ],
   "source": [
    "rating(10.0, 100.0)"
   ]
  },
  {
   "cell_type": "code",
   "execution_count": 48,
   "metadata": {},
   "outputs": [
    {
     "name": "stdout",
     "output_type": "stream",
     "text": [
      "mse1 : 1.14160309795\n",
      "mse2 : 1.13995760253\n"
     ]
    }
   ],
   "source": [
    "rating(10.0, 9.0)"
   ]
  },
  {
   "cell_type": "code",
   "execution_count": 49,
   "metadata": {},
   "outputs": [
    {
     "name": "stdout",
     "output_type": "stream",
     "text": [
      "mse1 : 1.14160309795\n",
      "mse2 : 1.13861857393\n"
     ]
    }
   ],
   "source": [
    "rating(10.0, 8.0)"
   ]
  },
  {
   "cell_type": "code",
   "execution_count": 54,
   "metadata": {},
   "outputs": [
    {
     "name": "stdout",
     "output_type": "stream",
     "text": [
      "mse1 : 1.14160309795\n",
      "mse2 : 1.13777768623\n"
     ]
    }
   ],
   "source": [
    "rating(10.0, 7.0)"
   ]
  },
  {
   "cell_type": "code",
   "execution_count": 55,
   "metadata": {},
   "outputs": [
    {
     "name": "stdout",
     "output_type": "stream",
     "text": [
      "mse1 : 1.14160309795\n",
      "mse2 : 1.13817781729\n"
     ]
    }
   ],
   "source": [
    "rating(10.0, 6.0)"
   ]
  },
  {
   "cell_type": "code",
   "execution_count": 56,
   "metadata": {},
   "outputs": [
    {
     "name": "stdout",
     "output_type": "stream",
     "text": [
      "mse1 : 1.14160309795\n",
      "mse2 : 1.14048701303\n"
     ]
    }
   ],
   "source": [
    "rating(10.0, 5.0)"
   ]
  },
  {
   "cell_type": "code",
   "execution_count": 57,
   "metadata": {},
   "outputs": [
    {
     "name": "stdout",
     "output_type": "stream",
     "text": [
      "mse1 : 1.14160309795\n",
      "mse2 : 1.13768969262\n"
     ]
    }
   ],
   "source": [
    "rating(10.0, 6.5)"
   ]
  },
  {
   "cell_type": "code",
   "execution_count": 58,
   "metadata": {},
   "outputs": [
    {
     "name": "stdout",
     "output_type": "stream",
     "text": [
      "mse1 : 1.14160309795\n",
      "mse2 : 1.13774786557\n"
     ]
    }
   ],
   "source": [
    "rating(10.0, 6.75)"
   ]
  },
  {
   "cell_type": "code",
   "execution_count": 60,
   "metadata": {},
   "outputs": [
    {
     "data": {
      "text/plain": [
       "11"
      ]
     },
     "execution_count": 60,
     "metadata": {},
     "output_type": "execute_result"
    }
   ],
   "source": [
    "len(m)"
   ]
  },
  {
   "cell_type": "code",
   "execution_count": 94,
   "metadata": {},
   "outputs": [
    {
     "name": "stdout",
     "output_type": "stream",
     "text": [
      "mse1 : 7.65491963125\n",
      "mse2 : 7.66633016929\n"
     ]
    }
   ],
   "source": [
    "rating(10.0, 10.0)"
   ]
  },
  {
   "cell_type": "code",
   "execution_count": 98,
   "metadata": {},
   "outputs": [
    {
     "name": "stdout",
     "output_type": "stream",
     "text": [
      "mse1 : 7.65491963125\n",
      "mse2 : 6.952621545\n"
     ]
    }
   ],
   "source": [
    "rating(10.0, 7.0)"
   ]
  },
  {
   "cell_type": "code",
   "execution_count": 100,
   "metadata": {},
   "outputs": [
    {
     "name": "stdout",
     "output_type": "stream",
     "text": [
      "mse1 : 7.65491963125\n",
      "mse2 : 6.65580375368\n"
     ]
    }
   ],
   "source": [
    "rating(10.0, 6.0)"
   ]
  },
  {
   "cell_type": "code",
   "execution_count": 102,
   "metadata": {},
   "outputs": [
    {
     "name": "stdout",
     "output_type": "stream",
     "text": [
      "mse1 : 7.65491963125\n",
      "mse2 : 6.3008433228\n"
     ]
    }
   ],
   "source": [
    "rating(10.0, 5.0)"
   ]
  },
  {
   "cell_type": "code",
   "execution_count": 104,
   "metadata": {},
   "outputs": [
    {
     "name": "stdout",
     "output_type": "stream",
     "text": [
      "mse1 : 7.65491963125\n",
      "mse2 : 6.7389049974\n"
     ]
    }
   ],
   "source": [
    "rating(10.0, 6.25)"
   ]
  },
  {
   "cell_type": "code",
   "execution_count": 106,
   "metadata": {},
   "outputs": [
    {
     "name": "stdout",
     "output_type": "stream",
     "text": [
      "mse1 : 7.65491963125\n",
      "mse2 : 6.8791423796\n"
     ]
    }
   ],
   "source": [
    "rating(10.0, 6.75)"
   ]
  },
  {
   "cell_type": "code",
   "execution_count": 116,
   "metadata": {},
   "outputs": [
    {
     "name": "stdout",
     "output_type": "stream",
     "text": [
      "mse1 : 7.65491963125\n",
      "mse2 : 6.78258937498\n"
     ]
    }
   ],
   "source": [
    "rating(10.0, 6.4)"
   ]
  },
  {
   "cell_type": "code",
   "execution_count": 118,
   "metadata": {},
   "outputs": [
    {
     "name": "stdout",
     "output_type": "stream",
     "text": [
      "mse1 : 7.65491963125\n",
      "mse2 : 6.81136289177\n"
     ]
    }
   ],
   "source": [
    "rating(10.0, 6.5)"
   ]
  },
  {
   "cell_type": "code",
   "execution_count": 121,
   "metadata": {},
   "outputs": [],
   "source": [
    "predictions = open(\"/Users/nan/Desktop/assign1_pairs_Rating.txt\", 'w') \n",
    "for l in open(\"pairs_Rating.txt\"):\n",
    "    if l.startswith(\"reviewerID\"): \n",
    "        #header\n",
    "        predictions.write(l)\n",
    "        continue\n",
    "    u,i = l.strip().split('-') \n",
    "    x = alpha[len(alpha)-1]\n",
    "    if u in bu[len(bu)-1]:\n",
    "        x += bu[len(bu)-1][u] \n",
    "    if i in bi[len(bi)-1]:\n",
    "        x += bi[len(bi)-1][i]\n",
    "    if u in gu[len(gu)-1]:\n",
    "        if i in gi[len(gi)-1]:\n",
    "            x += gu[len(gu)-1][u]*gi[len(gi)-1][i]\n",
    "    predictions.write(u + '-' + i + ',' + str(x) + '\\n')\n",
    "\n",
    "predictions.close()"
   ]
  },
  {
   "cell_type": "code",
   "execution_count": 120,
   "metadata": {},
   "outputs": [
    {
     "data": {
      "text/plain": [
       "[4.228449760467453, 4.228529097541549]"
      ]
     },
     "execution_count": 120,
     "metadata": {},
     "output_type": "execute_result"
    }
   ],
   "source": [
    "alpha"
   ]
  },
  {
   "cell_type": "code",
   "execution_count": null,
   "metadata": {},
   "outputs": [],
   "source": []
  }
 ],
 "metadata": {
  "kernelspec": {
   "display_name": "Python 2",
   "language": "python",
   "name": "python2"
  },
  "language_info": {
   "codemirror_mode": {
    "name": "ipython",
    "version": 2
   },
   "file_extension": ".py",
   "mimetype": "text/x-python",
   "name": "python",
   "nbconvert_exporter": "python",
   "pygments_lexer": "ipython2",
   "version": "2.7.15"
  }
 },
 "nbformat": 4,
 "nbformat_minor": 2
}
