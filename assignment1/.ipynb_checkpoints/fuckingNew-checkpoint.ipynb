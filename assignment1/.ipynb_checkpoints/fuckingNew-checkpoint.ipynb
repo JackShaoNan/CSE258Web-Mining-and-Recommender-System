{
 "cells": [
  {
   "cell_type": "code",
   "execution_count": 1,
   "metadata": {},
   "outputs": [
    {
     "name": "stdout",
     "output_type": "stream",
     "text": [
      "Reading data...\n",
      "Done\n"
     ]
    }
   ],
   "source": [
    "import gzip\n",
    "from collections import defaultdict\n",
    "import numpy as np\n",
    "import random\n",
    "from sklearn.metrics import accuracy_score\n",
    "import matplotlib.pyplot as plt\n",
    "def readGz(f):\n",
    "  for l in gzip.open(f):\n",
    "    yield eval(l)\n",
    "    \n",
    "print \"Reading data...\"\n",
    "data = list(readGz('train.json.gz'))\n",
    "print \"Done\""
   ]
  },
  {
   "cell_type": "code",
   "execution_count": 27,
   "metadata": {},
   "outputs": [],
   "source": [
    "# 1. Although we have built a validation set, it only \n",
    "# consists of positive samples. For this task we also \n",
    "# need examples of user/item pairs that weren’t purchased. \n",
    "# Build such a set by randomly sampling users and items until \n",
    "# you have 100,000 non-purchased user/item pairs. This random \n",
    "# sample combined with your 100,000 validation reviews now \n",
    "# corresponds to the complete validation set for the purchase \n",
    "# prediction task. Evaluate the performance (accuracy) of the \n",
    "# baseline model on the validation set you have built (1 mark).\n",
    "\n",
    "train = data[:100000]\n",
    "valid = data[100000:]\n",
    "\n",
    "user_item = defaultdict(set)\n",
    "user = set()\n",
    "item = set()\n",
    "for d in train:\n",
    "    user.add(d['reviewerID'])\n",
    "    item.add(d['itemID'])\n",
    "    user_item[d['reviewerID']].add(d['itemID'])"
   ]
  },
  {
   "cell_type": "code",
   "execution_count": 28,
   "metadata": {},
   "outputs": [
    {
     "name": "stdout",
     "output_type": "stream",
     "text": [
      "10000\n",
      "20000\n",
      "30000\n",
      "40000\n",
      "50000\n",
      "60000\n",
      "70000\n",
      "80000\n",
      "90000\n",
      "100000\n"
     ]
    }
   ],
   "source": [
    "non_user_item = defaultdict(set)\n",
    "count = 0\n",
    "while count < 100000:\n",
    "    u = random.choice(tuple(user))\n",
    "    i = random.choice(tuple(item))\n",
    "    if i not in user_item[u]:\n",
    "        non_user_item[u].add(i)\n",
    "        count += 1\n",
    "        if count % 10000 == 0:\n",
    "            print str(count)"
   ]
  },
  {
   "cell_type": "code",
   "execution_count": 34,
   "metadata": {},
   "outputs": [],
   "source": [
    "businessCount = defaultdict(int)\n",
    "totalPurchases = 0\n",
    "\n",
    "for l in readGz(\"train.json.gz\"):\n",
    "  user,business = l['reviewerID'],l['itemID']\n",
    "  businessCount[business] += 1\n",
    "  totalPurchases += 1\n",
    "\n",
    "mostPopular = [(businessCount[x], x) for x in businessCount]\n",
    "mostPopular.sort()\n",
    "mostPopular.reverse()\n",
    "\n",
    "return1 = set()\n",
    "count = 0\n",
    "for ic, i in mostPopular:\n",
    "  count += ic\n",
    "  return1.add(i)\n",
    "  if count > totalPurchases/2: break\n",
    "\n"
   ]
  },
  {
   "cell_type": "code",
   "execution_count": 35,
   "metadata": {},
   "outputs": [
    {
     "name": "stdout",
     "output_type": "stream",
     "text": [
      "acc : 0.648895\n"
     ]
    }
   ],
   "source": [
    "new_valid = []\n",
    "for u in non_user_item:\n",
    "    for i in non_user_item[u]:\n",
    "        new_valid.append((u,i))\n",
    "for d in valid:\n",
    "    new_valid.append((d['reviewerID'],d['itemID']))\n",
    "    \n",
    "y_valid = []\n",
    "for i in range(100000):\n",
    "    y_valid.append(0)\n",
    "for i in range(100000):\n",
    "    y_valid.append(1)\n",
    "\n",
    "correct = 0;\n",
    "for i in range(200000):\n",
    "    d = new_valid[i]\n",
    "    y = y_valid[i]\n",
    "    if d[1] in return1 and y == 1:\n",
    "        correct += 1\n",
    "    elif d[1] not in return1 and y == 0:\n",
    "        correct += 1\n",
    "        \n",
    "print \"acc : \" + str(correct * 1.0 / 200000)"
   ]
  },
  {
   "cell_type": "code",
   "execution_count": 36,
   "metadata": {},
   "outputs": [],
   "source": [
    "# 2. The existing ‘purchase prediction’ baseline just returns True \n",
    "#if the item in question is ‘popular,’ using a threshold of the 50th \n",
    "#percentile of popularity (totalPurchases/2). Assuming that the ‘non-purchased’ \n",
    "#test examples are a random sample of user-purchase pairs, is this particular \n",
    "#threshold value the best? If not, see if you can find a better one (and report \n",
    "#its performance), or if so, explain why it is the best (1 mark).\n",
    "def predict(threshold):\n",
    "    return1 = set()\n",
    "    count = 0\n",
    "    for ic, i in mostPopular:\n",
    "        count += ic\n",
    "        return1.add(i)\n",
    "        if count > totalPurchases * threshold: break\n",
    "    correct = 0;\n",
    "    for i in range(200000):\n",
    "        d = new_valid[i]\n",
    "        y = y_valid[i]\n",
    "        if d[1] in return1 and y == 1:\n",
    "            correct += 1\n",
    "        elif d[1] not in return1 and y == 0:\n",
    "            correct += 1\n",
    "    return correct * 1.0 / 200000"
   ]
  },
  {
   "cell_type": "code",
   "execution_count": 37,
   "metadata": {},
   "outputs": [
    {
     "data": {
      "image/png": "[encoded data removed]",
      "text/plain": [
       "<Figure size 432x288 with 1 Axes>"
      ]
     },
     "metadata": {
      "needs_background": "light"
     },
     "output_type": "display_data"
    }
   ],
   "source": [
    "acc = []\n",
    "for i in range(100):\n",
    "    acc.append(predict(i / 100.0))\n",
    "plt.xlabel(\"Threshold\")\n",
    "plt.ylabel(\"Accuracy\")\n",
    "plt.plot(np.array(range(len(acc))) / 100., acc)\n",
    "plt.show()"
   ]
  },
  {
   "cell_type": "code",
   "execution_count": 41,
   "metadata": {},
   "outputs": [
    {
     "name": "stdout",
     "output_type": "stream",
     "text": [
      "Maximum accuracy: 0.65182\n",
      "Threshold for max: 56\n"
     ]
    }
   ],
   "source": [
    "print \"Maximum accuracy:\" , max(acc)\n",
    "print \"Threshold for max:\", acc.index(max(acc))"
   ]
  },
  {
   "cell_type": "code",
   "execution_count": 44,
   "metadata": {},
   "outputs": [],
   "source": [
    "#3. Users may tend to repeatedly purchase items of the same type. \n",
    "#Build a baseline that returns ‘True’ if a user has purchased an \n",
    "#item of the same category before (at least one category in common), \n",
    "#or zero otherwise (1 mark). \n",
    "user_category = defaultdict(list)\n",
    "item_category = defaultdict(list)\n",
    "for d in train:\n",
    "    u = d['reviewerID']\n",
    "    i = d['itemID']\n",
    "    for c in d['categories']:\n",
    "        user_category[u].append(c)\n",
    "        item_category[i].append(c)\n",
    "        \n",
    "def pre_by_cate(u,i):\n",
    "    for c in item_category[i]:\n",
    "        if c in user_category[u]:\n",
    "            return 1\n",
    "    return 0"
   ]
  },
  {
   "cell_type": "code",
   "execution_count": 46,
   "metadata": {},
   "outputs": [],
   "source": [
    "#4. To run our model on the test set, we’ll have to use the \n",
    "#files ‘pairs Purchase.txt’ to find the review- erID/itemID pairs \n",
    "#about which we have to make predictions. Using that data, run the \n",
    "#above model and upload your solution to Kaggle. Tell us your Kaggle \n",
    "#user name (1 mark). If you’ve already uploaded a better solution to Kaggle, that’s fine too!\n",
    "\n",
    "### Submitted under name NanShao\n",
    "\n",
    "predictions = open(\"/Users/nan/Desktop/pairs_Purchase.txt\", 'w')\n",
    "for l in open(\"pairs_Purchase.txt\"):\n",
    "    if l.startswith(\"reviewerID\"):\n",
    "        #header\n",
    "        predictions.write(l)\n",
    "        continue\n",
    "    u,i = l.strip().split('-')\n",
    "    predictions.write(u + '-' + i + ',' + str(pre_by_cate(u,i)) + '\\n')\n",
    "predictions.close()"
   ]
  },
  {
   "cell_type": "code",
   "execution_count": 47,
   "metadata": {},
   "outputs": [
    {
     "name": "stdout",
     "output_type": "stream",
     "text": [
      "alpha : 4.232\n",
      "MSE for #5 :  1.22248112\n"
     ]
    }
   ],
   "source": [
    "#5. What is the performance of a trivial predictor\n",
    "#rating(user, item) = α\n",
    "#on the validation set, and what is the value of α (1 mark)?\n",
    "\n",
    "from sklearn.metrics import mean_squared_error\n",
    "train5 = data[:100000]\n",
    "valid5 = data[100000:]\n",
    "\n",
    "# alpha\n",
    "y_train5 = [d['rating'] for d in train5]\n",
    "alpha = np.mean(y_train5)\n",
    "print \"alpha : \" + str(alpha)\n",
    "\n",
    "# accuracy on validation set\n",
    "predictions = [alpha for d in valid5]\n",
    "real = [d['rating'] for d in valid5]\n",
    "print \"MSE for #5 : \", mean_squared_error(real,predictions)"
   ]
  }
 ],
 "metadata": {
  "kernelspec": {
   "display_name": "Python 2",
   "language": "python",
   "name": "python2"
  },
  "language_info": {
   "codemirror_mode": {
    "name": "ipython",
    "version": 2
   },
   "file_extension": ".py",
   "mimetype": "text/x-python",
   "name": "python",
   "nbconvert_exporter": "python",
   "pygments_lexer": "ipython2",
   "version": "2.7.15"
  }
 },
 "nbformat": 4,
 "nbformat_minor": 2
}
