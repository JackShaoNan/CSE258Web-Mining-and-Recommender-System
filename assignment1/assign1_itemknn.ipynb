{
 "cells": [
  {
   "cell_type": "code",
   "execution_count": 1,
   "metadata": {},
   "outputs": [
    {
     "name": "stdout",
     "output_type": "stream",
     "text": [
      "Reading data...\n",
      "Done\n"
     ]
    }
   ],
   "source": [
    "import gzip\n",
    "from collections import defaultdict\n",
    "import numpy as np\n",
    "import random\n",
    "from sklearn.metrics import accuracy_score\n",
    "import matplotlib.pyplot as plt\n",
    "def readGz(f):\n",
    "  for l in gzip.open(f):\n",
    "    yield eval(l)\n",
    "    \n",
    "print \"Reading data...\"\n",
    "data = list(readGz('train.json.gz'))\n",
    "print \"Done\""
   ]
  },
  {
   "cell_type": "code",
   "execution_count": 75,
   "metadata": {},
   "outputs": [],
   "source": [
    "# get user info and item info\n",
    "user_info = defaultdict(set) # items bought\n",
    "item_info = defaultdict(set) # categories\n",
    "for d in data:\n",
    "    u = d['reviewerID']\n",
    "    i = d['itemID']\n",
    "    user_info[u].add(i)\n",
    "    for cate in d['categories']:\n",
    "        for c in cate:\n",
    "                item_info[i].add(c)"
   ]
  },
  {
   "cell_type": "code",
   "execution_count": 17,
   "metadata": {},
   "outputs": [],
   "source": [
    "# get similarity between two items\n",
    "def get_simi(i1,i2):\n",
    "    # just use Jaccard similarity: J(A,B) = |A and B| / |A or B|\n",
    "    a_and_b = 0\n",
    "    a_or_b = 0\n",
    "    for cate in item_info[i1]:\n",
    "        if cate in item_info[i2]:\n",
    "            a_and_b += 1\n",
    "        else:\n",
    "            a_or_b += 1\n",
    "    a_or_b += len(item_info[i2])\n",
    "    return a_and_b / (a_or_b * 1.0)"
   ]
  },
  {
   "cell_type": "code",
   "execution_count": 6,
   "metadata": {},
   "outputs": [],
   "source": [
    "def add_all_item(s_i,i,u,user_info):\n",
    "    for item in user_info[u]:\n",
    "            s_i[i].add(item)\n",
    "            \n"
   ]
  },
  {
   "cell_type": "code",
   "execution_count": 76,
   "metadata": {},
   "outputs": [],
   "source": [
    "item_users = defaultdict(set)\n",
    "for d in data:\n",
    "    i = d['itemID']\n",
    "    u = d['reviewerID']\n",
    "    item_users[i].add(u)"
   ]
  },
  {
   "cell_type": "code",
   "execution_count": 77,
   "metadata": {},
   "outputs": [],
   "source": [
    "similar_item = defaultdict(set)\n",
    "for i in item_info:\n",
    "    for u in item_users[i]:\n",
    "        # add all items\n",
    "        add_all_item(similar_item,i,u,user_info)\n"
   ]
  },
  {
   "cell_type": "code",
   "execution_count": 15,
   "metadata": {},
   "outputs": [],
   "source": [
    "for i in similar_item:\n",
    "    if i in similar_item[i]:\n",
    "        similar_item[i].remove(i)"
   ]
  },
  {
   "cell_type": "code",
   "execution_count": 19,
   "metadata": {},
   "outputs": [
    {
     "name": "stdout",
     "output_type": "stream",
     "text": [
      "Sun Nov 18 08:22:15 2018\n",
      "Sun Nov 18 08:22:19 2018\n"
     ]
    }
   ],
   "source": [
    "import time\n",
    "t1 = time.ctime()\n",
    "item_relation = defaultdict(set)\n",
    "for i1 in item_info:\n",
    "    for i2 in similar_item[i1]:\n",
    "        item_relation[i1].add((i2,get_simi(i1,i2)))\n",
    "t2 = time.ctime()\n",
    "print str(t1)\n",
    "print str(t2)"
   ]
  },
  {
   "cell_type": "code",
   "execution_count": 53,
   "metadata": {},
   "outputs": [],
   "source": [
    "# input: user, item, item_relation, item_users, k\n",
    "def will_purchase(u,i,i_r,i_u,k):\n",
    "    if (u not in user_info) or (i not in item_info):\n",
    "        return random.randint(0,1)\n",
    "    # find k closet item, if they has been bought by u, i will bought by u\n",
    "    friends = []\n",
    "    for f in i_r[i]:\n",
    "        friends.append(f)\n",
    "    friends = sorted(friends, key=lambda x: x[1], reverse=True)\n",
    "    index = 0\n",
    "    if k > len(friends):\n",
    "        k = len(friends)\n",
    "    while index < k:\n",
    "        item = friends[index][0]\n",
    "        if u in i_u[item]:\n",
    "            return 1\n",
    "        index += 1\n",
    "    return 0"
   ]
  },
  {
   "cell_type": "code",
   "execution_count": 39,
   "metadata": {},
   "outputs": [],
   "source": [
    "# get test data\n",
    "test_data = []\n",
    "for i in range(1000):\n",
    "    d = random.choice(data)\n",
    "    test_data.append((d['reviewerID'],d['itemID']))\n",
    "\n",
    "for i in range(1000):\n",
    "    while 1:\n",
    "        d1 = random.choice(data)\n",
    "        d2 = random.choice(data)\n",
    "        u = d1['reviewerID']\n",
    "        i = d2['itemID']\n",
    "        if u not in item_users[i]:\n",
    "            test_data.append((u,i))\n",
    "            break\n",
    "\n",
    "    "
   ]
  },
  {
   "cell_type": "code",
   "execution_count": 63,
   "metadata": {},
   "outputs": [
    {
     "data": {
      "image/png": "[encoded data removed]",
      "text/plain": [
       "<Figure size 432x288 with 1 Axes>"
      ]
     },
     "metadata": {
      "needs_background": "light"
     },
     "output_type": "display_data"
    },
    {
     "name": "stdout",
     "output_type": "stream",
     "text": [
      "max acc:1.0\n",
      "k: 1\n"
     ]
    }
   ],
   "source": [
    "# find the best k\n",
    "\n",
    "\n",
    "klist = [1,2,5,10, 164, 166, 168, 169, 170, 171, 172, 173, 174, 175]\n",
    "accs = []\n",
    "for k in klist:\n",
    "    acc = 0\n",
    "    '''\n",
    "    for d in test_data[:1000]:\n",
    "        acc += will_purchase(d[0],d[1],item_relation,item_users,k)\n",
    "    '''\n",
    "    for d in test_data[1000:]:\n",
    "        acc += (1-will_purchase(d[0],d[1],item_relation,item_users,k))\n",
    "       \n",
    "    acc /= (1000 * 1.0)\n",
    "    accs.append(acc)\n",
    "\n",
    "plt.xlabel(\"k\")\n",
    "plt.ylabel(\"Accuracy\")\n",
    "plt.plot(klist, accs)\n",
    "plt.show()\n",
    "print \"max acc:\" + str(max(accs))\n",
    "print \"k: \" + str(klist[accs.index(max(accs))])"
   ]
  },
  {
   "cell_type": "code",
   "execution_count": 78,
   "metadata": {},
   "outputs": [],
   "source": [
    "# get user categories\n",
    "user_cate = defaultdict(set)\n",
    "for d in data:\n",
    "    u = d['reviewerID']\n",
    "    for cate in d['categories']:\n",
    "        for c in cate:\n",
    "                user_cate[u].add(c)"
   ]
  },
  {
   "cell_type": "code",
   "execution_count": 79,
   "metadata": {},
   "outputs": [],
   "source": [
    "# check if same sex between item and user\n",
    "def sex(u,i):\n",
    "    if 'Men' in user_cate[u] and 'Men' in item_info[i]:\n",
    "        return 1\n",
    "    if 'Women' in user_cate[u] and 'Women' in item_info[i]:\n",
    "        return 1\n",
    "    return 0"
   ]
  },
  {
   "cell_type": "code",
   "execution_count": 80,
   "metadata": {},
   "outputs": [],
   "source": [
    "# check the category\n",
    "def cate(u,i):\n",
    "    count = 0\n",
    "    for c in item_info[i]:\n",
    "        if c in user_cate[u]:\n",
    "            count += 1\n",
    "    if count >= 5 or count >= len(item_info[i]):\n",
    "        return 1\n",
    "    return 0"
   ]
  },
  {
   "cell_type": "code",
   "execution_count": 81,
   "metadata": {},
   "outputs": [],
   "source": [
    "# check gloable rank\n",
    "businessCount = defaultdict(int)\n",
    "totalPurchases = 0\n",
    "\n",
    "for l in readGz(\"train.json.gz\"):\n",
    "  user,business = l['reviewerID'],l['itemID']\n",
    "  businessCount[business] += 1\n",
    "  totalPurchases += 1\n",
    "\n",
    "mostPopular = [(businessCount[x], x) for x in businessCount]\n",
    "mostPopular.sort()\n",
    "mostPopular.reverse()\n",
    "\n",
    "return1 = set()\n",
    "count = 0\n",
    "for ic, i in mostPopular:\n",
    "  count += ic\n",
    "  return1.add(i)\n",
    "  if count > totalPurchases*.57: break"
   ]
  },
  {
   "cell_type": "code",
   "execution_count": 82,
   "metadata": {},
   "outputs": [],
   "source": [
    "# similarity between u and i\n",
    "def get_similarity(u, i, u_i):\n",
    "    if i in u_i[u]:\n",
    "        return 1\n",
    "    # just use Jaccard similarity: J(A,B) = |A and B| / |A or B|\n",
    "    all_cate = list()\n",
    "    for item in u_i[u]:\n",
    "        for cate_list in item_info[item]:\n",
    "            for c in cate_list:\n",
    "                if c not in all_cate:\n",
    "                    all_cate.append(c)\n",
    "    i_cate = list()\n",
    "    for cate in item_info[i]:\n",
    "        i_cate.append(cate)\n",
    "    a_and_b = 0\n",
    "    a_or_b = 0\n",
    "    for c in i_cate:\n",
    "        if c in all_cate:\n",
    "            a_and_b += 1\n",
    "        else:\n",
    "            a_or_b += 1\n",
    "    a_or_b += len(all_cate)\n",
    "    return a_and_b / (a_or_b * 1.0)"
   ]
  },
  {
   "cell_type": "code",
   "execution_count": 83,
   "metadata": {},
   "outputs": [],
   "source": [
    "# get the prediction\n",
    "predictions = open(\"/Users/nan/Desktop/assign1_pairs_Purchase.txt\", 'w')\n",
    "for l in open(\"pairs_Purchase.txt\"):\n",
    "    if l.startswith(\"reviewerID\"):\n",
    "        #header\n",
    "        predictions.write(l)\n",
    "        continue\n",
    "    u,i = l.strip().split('-')\n",
    "    \n",
    "    res = 0\n",
    "    '''\n",
    "    if will_purchase(u,i,item_relation,item_users,171) > 0:\n",
    "        res += .5\n",
    "    '''\n",
    "    if u in user_cate and i in item_info:\n",
    "        res += get_similarity(u,i,user_info)\n",
    "        if i in return1:\n",
    "            res += .1\n",
    "        else:\n",
    "            res -= .1\n",
    "        if cate(u,i) > 0:\n",
    "            res += .3\n",
    "        else:\n",
    "            res -= .2\n",
    "        if sex(u,i) > 0:\n",
    "            res += .1\n",
    "        else:\n",
    "            res -= .5\n",
    "\n",
    "        if res >= .5:\n",
    "            res = 1\n",
    "        else:\n",
    "            res = 0\n",
    "    else:\n",
    "        res = random.randint(0,1)\n",
    "        \n",
    "    predictions.write(u + '-' + i + ',' + str(res) + '\\n')\n",
    "predictions.close()"
   ]
  },
  {
   "cell_type": "code",
   "execution_count": 56,
   "metadata": {},
   "outputs": [
    {
     "data": {
      "text/plain": [
       "[('I909815747', 0.5),\n",
       " ('I375792318', 0.42857142857142855),\n",
       " ('I663327406', 0.42857142857142855),\n",
       " ('I684267425', 0.4),\n",
       " ('I913119235', 0.4),\n",
       " ('I069977672', 0.375),\n",
       " ('I768292795', 0.375),\n",
       " ('I736974828', 0.3333333333333333),\n",
       " ('I367609494', 0.3333333333333333),\n",
       " ('I033615058', 0.3333333333333333),\n",
       " ('I393698627', 0.25),\n",
       " ('I142463721', 0.25),\n",
       " ('I278591795', 0.25),\n",
       " ('I735204666', 0.2222222222222222),\n",
       " ('I096552695', 0.18181818181818182),\n",
       " ('I115027523', 0.16666666666666666),\n",
       " ('I673073190', 0.16666666666666666),\n",
       " ('I838544963', 0.15384615384615385),\n",
       " ('I606848644', 0.15384615384615385),\n",
       " ('I749722765', 0.14285714285714285),\n",
       " ('I379937308', 0.13333333333333333),\n",
       " ('I746527657', 0.13333333333333333)]"
      ]
     },
     "execution_count": 56,
     "metadata": {},
     "output_type": "execute_result"
    }
   ],
   "source": [
    "sorted(item_relation['I006212764'], key=lambda x: x[1], reverse=True)"
   ]
  },
  {
   "cell_type": "code",
   "execution_count": 67,
   "metadata": {},
   "outputs": [
    {
     "data": {
      "text/plain": [
       "19914"
      ]
     },
     "execution_count": 67,
     "metadata": {},
     "output_type": "execute_result"
    }
   ],
   "source": [
    "len(item_info)"
   ]
  },
  {
   "cell_type": "code",
   "execution_count": 68,
   "metadata": {},
   "outputs": [
    {
     "data": {
      "text/plain": [
       "136258"
      ]
     },
     "execution_count": 68,
     "metadata": {},
     "output_type": "execute_result"
    }
   ],
   "source": [
    "n = 0\n",
    "for i in item_info:\n",
    "    n += len(item_info[i])\n",
    "n"
   ]
  },
  {
   "cell_type": "code",
   "execution_count": 69,
   "metadata": {},
   "outputs": [
    {
     "data": {
      "text/plain": [
       "6"
      ]
     },
     "execution_count": 69,
     "metadata": {},
     "output_type": "execute_result"
    }
   ],
   "source": [
    "n / 19914"
   ]
  },
  {
   "cell_type": "code",
   "execution_count": 84,
   "metadata": {},
   "outputs": [],
   "source": [
    "simi_user = defaultdict(set)\n",
    "for i in item_users:\n",
    "    for u in user_info:\n",
    "        if u in item_users[i]:\n",
    "            for uu in item_users[i]:\n",
    "                if not uu == u:\n",
    "                    simi_user[u].add(uu)"
   ]
  },
  {
   "cell_type": "code",
   "execution_count": 85,
   "metadata": {},
   "outputs": [],
   "source": [
    "user_relation = defaultdict(set)\n",
    "for u in simi_user:\n",
    "    for uu in simi_user[u]:\n",
    "        res = len(simi_user[u] & simi_user[uu])*1.0 / (len(simi_user[u]) + len(simi_user[uu]))\n",
    "        user_relation[u].add((uu,res))\n",
    "    "
   ]
  },
  {
   "cell_type": "code",
   "execution_count": 89,
   "metadata": {},
   "outputs": [],
   "source": [
    "# by similar user\n",
    "def pred_by_user(u,i,u_r,u_i,k):\n",
    "    if (u not in user_info) or (i not in item_info):\n",
    "        return random.randint(0,1)\n",
    "    # find k closet user, if they has been bought by u, i will bought by u\n",
    "    friends = []\n",
    "    for f in u_r[u]:\n",
    "        friends.append(f)\n",
    "    friends = sorted(friends, key=lambda x: x[1], reverse=True)\n",
    "    index = 0\n",
    "    if k > len(friends):\n",
    "        k = len(friends)\n",
    "    while index < k:\n",
    "        item = friends[index][0]\n",
    "        if i in u_i[item]:\n",
    "            return 1\n",
    "        index += 1\n",
    "    return 0"
   ]
  },
  {
   "cell_type": "code",
   "execution_count": 100,
   "metadata": {},
   "outputs": [
    {
     "data": {
      "image/png": "[encoded data removed]",
      "text/plain": [
       "<Figure size 432x288 with 1 Axes>"
      ]
     },
     "metadata": {
      "needs_background": "light"
     },
     "output_type": "display_data"
    },
    {
     "name": "stdout",
     "output_type": "stream",
     "text": [
      "max acc:1.92\n",
      "k: 786\n"
     ]
    }
   ],
   "source": [
    "# find the best k\n",
    "\n",
    "\n",
    "klist = [785,786,787,788,789,790,791,792,793,794,795]\n",
    "accs = []\n",
    "for k in klist:\n",
    "    acc = 0\n",
    "    \n",
    "    for d in test_data[:1000]:\n",
    "        acc += pred_by_user(d[0],d[1],user_relation,user_info,k)\n",
    "    \n",
    "    for d in test_data[1000:]:\n",
    "        acc += (1-pred_by_user(d[0],d[1],user_relation,user_info,k))\n",
    "       \n",
    "    acc /= (1000 * 1.0)\n",
    "    accs.append(acc)\n",
    "\n",
    "plt.xlabel(\"k\")\n",
    "plt.ylabel(\"Accuracy\")\n",
    "plt.plot(klist, accs)\n",
    "plt.show()\n",
    "print \"max acc:\" + str(max(accs))\n",
    "print \"k: \" + str(klist[accs.index(max(accs))])"
   ]
  },
  {
   "cell_type": "code",
   "execution_count": 102,
   "metadata": {},
   "outputs": [],
   "source": [
    "# get the prediction\n",
    "predictions = open(\"/Users/nan/Desktop/assign1_pairs_Purchase.txt\", 'w')\n",
    "for l in open(\"pairs_Purchase.txt\"):\n",
    "    if l.startswith(\"reviewerID\"):\n",
    "        #header\n",
    "        predictions.write(l)\n",
    "        continue\n",
    "    u,i = l.strip().split('-')\n",
    "    \n",
    "    res = 0\n",
    "    \n",
    "    if u in user_cate and i in item_info:\n",
    "        res = pred_by_user(u,i,user_relation,user_info,786) * will_purchase(u,i,item_relation,item_users,171)\n",
    "    else:\n",
    "        res = random.randint(0,1)\n",
    "        \n",
    "    predictions.write(u + '-' + i + ',' + str(res) + '\\n')\n",
    "predictions.close()"
   ]
  },
  {
   "cell_type": "code",
   "execution_count": 3,
   "metadata": {},
   "outputs": [
    {
     "ename": "ValueError",
     "evalue": "Expected 2D array, got 1D array instead:\narray=[1. 2. 3.].\nReshape your data either using array.reshape(-1, 1) if your data has a single feature or array.reshape(1, -1) if it contains a single sample.",
     "output_type": "error",
     "traceback": [
      "\u001b[0;31m---------------------------------------------------------------------------\u001b[0m",
      "\u001b[0;31mValueError\u001b[0m                                Traceback (most recent call last)",
      "\u001b[0;32m<ipython-input-3-45862d909a6e>\u001b[0m in \u001b[0;36m<module>\u001b[0;34m()\u001b[0m\n\u001b[1;32m      1\u001b[0m \u001b[0;32mfrom\u001b[0m \u001b[0msklearn\u001b[0m\u001b[0;34m.\u001b[0m\u001b[0mmetrics\u001b[0m\u001b[0;34m.\u001b[0m\u001b[0mpairwise\u001b[0m \u001b[0;32mimport\u001b[0m \u001b[0mcosine_similarity\u001b[0m\u001b[0;34m\u001b[0m\u001b[0m\n\u001b[0;32m----> 2\u001b[0;31m \u001b[0msklearn\u001b[0m\u001b[0;34m.\u001b[0m\u001b[0mmetrics\u001b[0m\u001b[0;34m.\u001b[0m\u001b[0mpairwise\u001b[0m\u001b[0;34m.\u001b[0m\u001b[0mcosine_similarity\u001b[0m\u001b[0;34m(\u001b[0m\u001b[0;34m[\u001b[0m\u001b[0;36m1\u001b[0m\u001b[0;34m,\u001b[0m\u001b[0;36m2\u001b[0m\u001b[0;34m,\u001b[0m\u001b[0;36m3\u001b[0m\u001b[0;34m]\u001b[0m\u001b[0;34m,\u001b[0m\u001b[0;34m[\u001b[0m\u001b[0;36m3\u001b[0m\u001b[0;34m,\u001b[0m\u001b[0;36m2\u001b[0m\u001b[0;34m,\u001b[0m\u001b[0;36m1\u001b[0m\u001b[0;34m]\u001b[0m\u001b[0;34m)\u001b[0m\u001b[0;34m\u001b[0m\u001b[0m\n\u001b[0m",
      "\u001b[0;32m/anaconda2/lib/python2.7/site-packages/sklearn/metrics/pairwise.pyc\u001b[0m in \u001b[0;36mcosine_similarity\u001b[0;34m(X, Y, dense_output)\u001b[0m\n\u001b[1;32m    915\u001b[0m     \u001b[0;31m# to avoid recursive import\u001b[0m\u001b[0;34m\u001b[0m\u001b[0;34m\u001b[0m\u001b[0m\n\u001b[1;32m    916\u001b[0m \u001b[0;34m\u001b[0m\u001b[0m\n\u001b[0;32m--> 917\u001b[0;31m     \u001b[0mX\u001b[0m\u001b[0;34m,\u001b[0m \u001b[0mY\u001b[0m \u001b[0;34m=\u001b[0m \u001b[0mcheck_pairwise_arrays\u001b[0m\u001b[0;34m(\u001b[0m\u001b[0mX\u001b[0m\u001b[0;34m,\u001b[0m \u001b[0mY\u001b[0m\u001b[0;34m)\u001b[0m\u001b[0;34m\u001b[0m\u001b[0m\n\u001b[0m\u001b[1;32m    918\u001b[0m \u001b[0;34m\u001b[0m\u001b[0m\n\u001b[1;32m    919\u001b[0m     \u001b[0mX_normalized\u001b[0m \u001b[0;34m=\u001b[0m \u001b[0mnormalize\u001b[0m\u001b[0;34m(\u001b[0m\u001b[0mX\u001b[0m\u001b[0;34m,\u001b[0m \u001b[0mcopy\u001b[0m\u001b[0;34m=\u001b[0m\u001b[0mTrue\u001b[0m\u001b[0;34m)\u001b[0m\u001b[0;34m\u001b[0m\u001b[0m\n",
      "\u001b[0;32m/anaconda2/lib/python2.7/site-packages/sklearn/metrics/pairwise.pyc\u001b[0m in \u001b[0;36mcheck_pairwise_arrays\u001b[0;34m(X, Y, precomputed, dtype)\u001b[0m\n\u001b[1;32m    108\u001b[0m     \u001b[0;32melse\u001b[0m\u001b[0;34m:\u001b[0m\u001b[0;34m\u001b[0m\u001b[0m\n\u001b[1;32m    109\u001b[0m         X = check_array(X, accept_sparse='csr', dtype=dtype,\n\u001b[0;32m--> 110\u001b[0;31m                         warn_on_dtype=warn_on_dtype, estimator=estimator)\n\u001b[0m\u001b[1;32m    111\u001b[0m         Y = check_array(Y, accept_sparse='csr', dtype=dtype,\n\u001b[1;32m    112\u001b[0m                         warn_on_dtype=warn_on_dtype, estimator=estimator)\n",
      "\u001b[0;32m/anaconda2/lib/python2.7/site-packages/sklearn/utils/validation.pyc\u001b[0m in \u001b[0;36mcheck_array\u001b[0;34m(array, accept_sparse, dtype, order, copy, force_all_finite, ensure_2d, allow_nd, ensure_min_samples, ensure_min_features, warn_on_dtype, estimator)\u001b[0m\n\u001b[1;32m    439\u001b[0m                     \u001b[0;34m\"Reshape your data either using array.reshape(-1, 1) if \"\u001b[0m\u001b[0;34m\u001b[0m\u001b[0m\n\u001b[1;32m    440\u001b[0m                     \u001b[0;34m\"your data has a single feature or array.reshape(1, -1) \"\u001b[0m\u001b[0;34m\u001b[0m\u001b[0m\n\u001b[0;32m--> 441\u001b[0;31m                     \"if it contains a single sample.\".format(array))\n\u001b[0m\u001b[1;32m    442\u001b[0m             \u001b[0marray\u001b[0m \u001b[0;34m=\u001b[0m \u001b[0mnp\u001b[0m\u001b[0;34m.\u001b[0m\u001b[0matleast_2d\u001b[0m\u001b[0;34m(\u001b[0m\u001b[0marray\u001b[0m\u001b[0;34m)\u001b[0m\u001b[0;34m\u001b[0m\u001b[0m\n\u001b[1;32m    443\u001b[0m             \u001b[0;31m# To ensure that array flags are maintained\u001b[0m\u001b[0;34m\u001b[0m\u001b[0;34m\u001b[0m\u001b[0m\n",
      "\u001b[0;31mValueError\u001b[0m: Expected 2D array, got 1D array instead:\narray=[1. 2. 3.].\nReshape your data either using array.reshape(-1, 1) if your data has a single feature or array.reshape(1, -1) if it contains a single sample."
     ]
    }
   ],
   "source": [
    "from sklearn.metrics.pairwise import cosine_similarity\n",
    "sklearn.metrics.pairwise.cosine_similarity([1,2,3],[3,2,1])"
   ]
  },
  {
   "cell_type": "code",
   "execution_count": 4,
   "metadata": {},
   "outputs": [
    {
     "name": "stdout",
     "output_type": "stream",
     "text": [
      "Reading data...\n",
      "done\n"
     ]
    }
   ],
   "source": [
    "import numpy\n",
    "import urllib\n",
    "import scipy.optimize\n",
    "import random\n",
    "from collections import defaultdict\n",
    "import nltk\n",
    "import string\n",
    "from nltk.stem.porter import *\n",
    "from sklearn import linear_model\n",
    "\n",
    "def parseData(fname):\n",
    "  for l in urllib.urlopen(fname):\n",
    "    yield eval(l)\n",
    "\n",
    "### Just the first 5000 reviews\n",
    "\n",
    "print \"Reading data...\"\n",
    "data = list(parseData(\"http://jmcauley.ucsd.edu/cse190/data/beer/beer_50000.json\"))[:5]\n",
    "print \"done\"\n"
   ]
  },
  {
   "cell_type": "code",
   "execution_count": 20,
   "metadata": {},
   "outputs": [
    {
     "name": "stdout",
     "output_type": "stream",
     "text": [
      "a lot of foam . but a lot .\tin the smell some banana , and then lactic and tart . not a good start .\tquite dark orange in color , with a lively carbonation  (now visible , under the foam ) .\tagain tending to lactic sourness .\tsame for the taste . with some yeast and banana .\n"
     ]
    }
   ],
   "source": [
    "wordCount = defaultdict(int)\n",
    "punctuation = set(string.punctuation)\n",
    "stemmer = PorterStemmer()\n",
    "for d in data[:1]:\n",
    "    l = []\n",
    "    for c in d['review/text'].lower(): \n",
    "        if c in punctuation: \n",
    "            l.append(' '+c) \n",
    "        else: \n",
    "            l.append(c)\n",
    "  r = ''.join(l)\n",
    "  print r\n",
    "  for w in r.split():\n",
    "    #w = stemmer.stem(w) # with stemming\n",
    "    wordCount[w] += 1"
   ]
  },
  {
   "cell_type": "code",
   "execution_count": 16,
   "metadata": {},
   "outputs": [
    {
     "data": {
      "text/plain": [
       "{'!',\n",
       " '\"',\n",
       " '#',\n",
       " '$',\n",
       " '%',\n",
       " '&',\n",
       " \"'\",\n",
       " '(',\n",
       " ')',\n",
       " '*',\n",
       " '+',\n",
       " ',',\n",
       " '-',\n",
       " '.',\n",
       " '/',\n",
       " ':',\n",
       " ';',\n",
       " '<',\n",
       " '=',\n",
       " '>',\n",
       " '?',\n",
       " '@',\n",
       " '[',\n",
       " '\\\\',\n",
       " ']',\n",
       " '^',\n",
       " '_',\n",
       " '`',\n",
       " '{',\n",
       " '|',\n",
       " '}',\n",
       " '~'}"
      ]
     },
     "execution_count": 16,
     "metadata": {},
     "output_type": "execute_result"
    }
   ],
   "source": [
    "punctuation"
   ]
  },
  {
   "cell_type": "code",
   "execution_count": null,
   "metadata": {},
   "outputs": [],
   "source": []
  }
 ],
 "metadata": {
  "kernelspec": {
   "display_name": "Python 2",
   "language": "python",
   "name": "python2"
  },
  "language_info": {
   "codemirror_mode": {
    "name": "ipython",
    "version": 2
   },
   "file_extension": ".py",
   "mimetype": "text/x-python",
   "name": "python",
   "nbconvert_exporter": "python",
   "pygments_lexer": "ipython2",
   "version": "2.7.15"
  }
 },
 "nbformat": 4,
 "nbformat_minor": 2
}
