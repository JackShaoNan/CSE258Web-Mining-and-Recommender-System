{
 "cells": [
  {
   "cell_type": "code",
   "execution_count": 1,
   "metadata": {},
   "outputs": [
    {
     "name": "stdout",
     "output_type": "stream",
     "text": [
      "Reading data...\n",
      "Done\n"
     ]
    }
   ],
   "source": [
    "import gzip\n",
    "from collections import defaultdict\n",
    "import numpy as np\n",
    "import random\n",
    "from sklearn.metrics import accuracy_score\n",
    "import matplotlib.pyplot as plt\n",
    "def readGz(f):\n",
    "  for l in gzip.open(f):\n",
    "    yield eval(l)\n",
    "    \n",
    "print \"Reading data...\"\n",
    "data = list(readGz('train.json.gz'))\n",
    "print \"Done\""
   ]
  },
  {
   "cell_type": "code",
   "execution_count": 30,
   "metadata": {},
   "outputs": [
    {
     "data": {
      "text/plain": [
       "{'categories': [['Clothing, Shoes & Jewelry',\n",
       "   'Women',\n",
       "   'Clothing',\n",
       "   'Dresses',\n",
       "   'Casual'],\n",
       "  ['Clothing, Shoes & Jewelry', 'Women', 'Plus-Size']],\n",
       " 'categoryID': 0,\n",
       " 'helpful': {'nHelpful': 1, 'outOf': 1},\n",
       " 'itemID': 'I006212764',\n",
       " 'rating': 3.0,\n",
       " 'reviewHash': 'R595520643',\n",
       " 'reviewText': '...but if someone were to wear it as a dress, they would freeze their business.  And they would deserve to.It does make a nice warm sweater with jeans or a skirt, though.',\n",
       " 'reviewTime': '12 27, 2012',\n",
       " 'reviewerID': 'U651319519',\n",
       " 'summary': 'Makes for a nice sweater...',\n",
       " 'unixReviewTime': 1356566400}"
      ]
     },
     "execution_count": 30,
     "metadata": {},
     "output_type": "execute_result"
    }
   ],
   "source": [
    "data[7777]"
   ]
  },
  {
   "cell_type": "code",
   "execution_count": 33,
   "metadata": {},
   "outputs": [
    {
     "data": {
      "text/plain": [
       "{'categories': [['Clothing, Shoes & Jewelry',\n",
       "   'Women',\n",
       "   'Clothing',\n",
       "   'Lingerie, Sleep & Lounge',\n",
       "   'Intimates',\n",
       "   'Shapewear',\n",
       "   'Waist Cinchers'],\n",
       "  ['Clothing, Shoes & Jewelry',\n",
       "   'Women',\n",
       "   'Petite',\n",
       "   'Intimates',\n",
       "   'Shapewear',\n",
       "   'Waist Cinchers'],\n",
       "  ['Clothing, Shoes & Jewelry',\n",
       "   'Women',\n",
       "   'Plus-Size',\n",
       "   'Intimates',\n",
       "   'Shapewear',\n",
       "   'Waist Cinchers']],\n",
       " 'categoryID': 0,\n",
       " 'helpful': {'nHelpful': 0, 'outOf': 0},\n",
       " 'itemID': 'I490564816',\n",
       " 'rating': 4.0,\n",
       " 'reviewHash': 'R072101032',\n",
       " 'reviewText': \"This corset in addition to a few more helped me get back my pre pregnancy body after having twins. I would put this one over a compression garment and continued to go down in sizes until I reached small. Eventually I no longer needed a corset (I'm size 1 now). Highly recommend, however if you have a lot of fat on your back it will spill over\",\n",
       " 'reviewTime': '03 5, 2014',\n",
       " 'reviewerID': 'U667520612',\n",
       " 'summary': 'Great product',\n",
       " 'unixReviewTime': 1393977600}"
      ]
     },
     "execution_count": 33,
     "metadata": {},
     "output_type": "execute_result"
    }
   ],
   "source": [
    "data[777]"
   ]
  },
  {
   "cell_type": "code",
   "execution_count": null,
   "metadata": {},
   "outputs": [],
   "source": [
    "# the basic idea is that we judge whether a item will be purchased or not\n",
    "# by the similarity of items bought by user and items didn't bought by user"
   ]
  },
  {
   "cell_type": "code",
   "execution_count": 59,
   "metadata": {},
   "outputs": [],
   "source": [
    "# we first get what items user has bought\n",
    "user_item = defaultdict(set)\n",
    "for d in data:\n",
    "    u = d['reviewerID']\n",
    "    user_item[u].add(d['itemID'])"
   ]
  },
  {
   "cell_type": "code",
   "execution_count": 4,
   "metadata": {},
   "outputs": [
    {
     "data": {
      "text/plain": [
       "5"
      ]
     },
     "execution_count": 4,
     "metadata": {},
     "output_type": "execute_result"
    }
   ],
   "source": [
    "# caculate the mean number of items user bought\n",
    "# to get a sense of how many items i should generate for\n",
    "# non_purchase items for each user\n",
    "\n",
    "\n",
    "'''\n",
    "mean_num = 0\n",
    "user_num = 0\n",
    "for u in user_item:\n",
    "    user_num += 1\n",
    "    mean_num += len(user_item[u])\n",
    "mean_num /= user_num\n",
    "mean_num\n",
    "'''"
   ]
  },
  {
   "cell_type": "code",
   "execution_count": 62,
   "metadata": {},
   "outputs": [],
   "source": [
    "# get all item info\n",
    "item_info = defaultdict(list)\n",
    "for d in data:\n",
    "    i = d['itemID']\n",
    "    if not i in item_info:\n",
    "        for cate in d['categories']:\n",
    "            item_info[i].append(cate)"
   ]
  },
  {
   "cell_type": "code",
   "execution_count": 63,
   "metadata": {},
   "outputs": [
    {
     "data": {
      "text/plain": [
       "19914"
      ]
     },
     "execution_count": 63,
     "metadata": {},
     "output_type": "execute_result"
    }
   ],
   "source": [
    "len(item_info)"
   ]
  },
  {
   "cell_type": "code",
   "execution_count": 107,
   "metadata": {},
   "outputs": [],
   "source": [
    "# generate the non_purchased item for each user\n",
    "non_user_item = defaultdict(set)\n",
    "for u in user_item:\n",
    "    while len(non_user_item[u]) < len(user_item[u]):\n",
    "        i = random.choice(item_info.keys())\n",
    "        if i not in user_item[u]:\n",
    "            non_user_item[u].add(i)"
   ]
  },
  {
   "cell_type": "code",
   "execution_count": 65,
   "metadata": {},
   "outputs": [],
   "source": [
    "# get the similarity\n",
    "def get_similarity(u, i, u_i):\n",
    "    if i in u_i[u]:\n",
    "        return 1\n",
    "    # just use Jaccard similarity: J(A,B) = |A and B| / |A or B|\n",
    "    all_cate = list()\n",
    "    for item in u_i[u]:\n",
    "        for cate_list in item_info[item]:\n",
    "            for c in cate_list:\n",
    "                if c not in all_cate:\n",
    "                    all_cate.append(c)\n",
    "    i_cate = list()\n",
    "    for cate_list in item_info[i]:\n",
    "        for c in cate_list:\n",
    "            i_cate.append(c)\n",
    "    a_and_b = 0\n",
    "    a_or_b = 0\n",
    "    for c in i_cate:\n",
    "        if c in all_cate:\n",
    "            a_and_b += 1\n",
    "        else:\n",
    "            a_or_b += 1\n",
    "    a_or_b += len(all_cate)\n",
    "    return a_and_b / (a_or_b * 1.0)\n",
    "    "
   ]
  },
  {
   "cell_type": "code",
   "execution_count": 66,
   "metadata": {},
   "outputs": [],
   "source": [
    "# judge whether user will buy this item\n",
    "def will_purchase(u,i):\n",
    "    if (u not in user_item) or (i not in item_info):\n",
    "        return random.randint(0,1)\n",
    "    y = get_similarity(u,i,user_item)\n",
    "    n = get_similarity(u,i,non_user_item)\n",
    "    if y > n:\n",
    "        return 1\n",
    "    else:\n",
    "        return 0"
   ]
  },
  {
   "cell_type": "code",
   "execution_count": 108,
   "metadata": {},
   "outputs": [],
   "source": [
    "# get the prediction\n",
    "predictions = open(\"/Users/nan/Desktop/assign1_pairs_Purchase.txt\", 'w')\n",
    "for l in open(\"pairs_Purchase.txt\"):\n",
    "    if l.startswith(\"reviewerID\"):\n",
    "        #header\n",
    "        predictions.write(l)\n",
    "        continue\n",
    "    u,i = l.strip().split('-')\n",
    "    predictions.write(u + '-' + i + ',' + str(will_purchase(u,i)) + '\\n')\n",
    "predictions.close()"
   ]
  },
  {
   "cell_type": "code",
   "execution_count": 61,
   "metadata": {},
   "outputs": [
    {
     "data": {
      "text/plain": [
       "19915"
      ]
     },
     "execution_count": 61,
     "metadata": {},
     "output_type": "execute_result"
    }
   ],
   "source": [
    "len(item_info)"
   ]
  },
  {
   "cell_type": "code",
   "execution_count": 68,
   "metadata": {},
   "outputs": [
    {
     "data": {
      "text/plain": [
       "39239"
      ]
     },
     "execution_count": 68,
     "metadata": {},
     "output_type": "execute_result"
    }
   ],
   "source": [
    "len(user_item)"
   ]
  },
  {
   "cell_type": "code",
   "execution_count": 72,
   "metadata": {},
   "outputs": [],
   "source": [
    "a = dict()\n",
    "if '1' not in a:\n",
    "    a['1'] = []\n",
    "a['1'].append(1)\n",
    "a['1'].append(4)"
   ]
  },
  {
   "cell_type": "code",
   "execution_count": 73,
   "metadata": {},
   "outputs": [
    {
     "data": {
      "text/plain": [
       "{'1': [1, 4]}"
      ]
     },
     "execution_count": 73,
     "metadata": {},
     "output_type": "execute_result"
    }
   ],
   "source": [
    "a"
   ]
  },
  {
   "cell_type": "code",
   "execution_count": 76,
   "metadata": {},
   "outputs": [
    {
     "name": "stdout",
     "output_type": "stream",
     "text": [
      "1\n",
      "2\n",
      "3\n",
      "1\n",
      "2\n",
      "3\n"
     ]
    }
   ],
   "source": [
    "a = set()\n",
    "a.add(1)\n",
    "a.add(2)\n",
    "a.add(3)\n",
    "for i in a:\n",
    "    print i\n",
    "for i in a:\n",
    "    print i"
   ]
  },
  {
   "cell_type": "code",
   "execution_count": 91,
   "metadata": {},
   "outputs": [
    {
     "data": {
      "text/plain": [
       "[[2, 3], [6, 7], [3, 34], [24, 64], [1, 43]]"
      ]
     },
     "execution_count": 91,
     "metadata": {},
     "output_type": "execute_result"
    }
   ],
   "source": [
    "def getKey(i):\n",
    "    return i[1]\n",
    "a = [('ssqqd',11),('ads',2)]\n",
    "sorted(a,key=getKey)\n",
    "a"
   ]
  },
  {
   "cell_type": "code",
   "execution_count": 92,
   "metadata": {},
   "outputs": [
    {
     "data": {
      "text/plain": [
       "[1, 2, 3, 4, 7]"
      ]
     },
     "execution_count": 92,
     "metadata": {},
     "output_type": "execute_result"
    }
   ],
   "source": [
    "a = [1,2,4,3,7]\n",
    "sorted(a)"
   ]
  },
  {
   "cell_type": "code",
   "execution_count": 93,
   "metadata": {},
   "outputs": [
    {
     "data": {
      "text/plain": [
       "[[2, 3], [6, 7], [3, 34], [1, 43], [24, 64]]"
      ]
     },
     "execution_count": 93,
     "metadata": {},
     "output_type": "execute_result"
    }
   ],
   "source": [
    "a = [[2, 3], [6, 7], [3, 34], [24, 64], [1, 43]]\n",
    "sorted(a,key=getKey)"
   ]
  },
  {
   "cell_type": "code",
   "execution_count": 94,
   "metadata": {},
   "outputs": [
    {
     "data": {
      "text/plain": [
       "[('abc', 121), ('abc', 148), ('abc', 221), ('abc', 231)]"
      ]
     },
     "execution_count": 94,
     "metadata": {},
     "output_type": "execute_result"
    }
   ],
   "source": [
    "sorted([('abc', 121),('abc', 231),('abc', 148), ('abc',221)], key=lambda x: x[1])"
   ]
  },
  {
   "cell_type": "code",
   "execution_count": 101,
   "metadata": {},
   "outputs": [],
   "source": [
    "a = sorted([('ssqqd',11),('ads',2)], key=lambda x: x[0],reverse=True)"
   ]
  },
  {
   "cell_type": "code",
   "execution_count": 103,
   "metadata": {},
   "outputs": [],
   "source": [
    "a = random.choice(data)"
   ]
  },
  {
   "cell_type": "code",
   "execution_count": 104,
   "metadata": {},
   "outputs": [
    {
     "data": {
      "text/plain": [
       "{'categories': [['Clothing, Shoes & Jewelry',\n",
       "   'Women',\n",
       "   'Clothing',\n",
       "   'Socks & Hosiery',\n",
       "   'Dress & Trouser Socks']],\n",
       " 'categoryID': 0,\n",
       " 'helpful': {'nHelpful': 0, 'outOf': 0},\n",
       " 'itemID': 'I789706599',\n",
       " 'price': 18.0,\n",
       " 'rating': 4.0,\n",
       " 'reviewHash': 'R682851280',\n",
       " 'reviewText': \"These fit fine, but slid down my legs after probably 30 steps. I know I have big calves, but the elastic in these just isn't that great. But, with some sock glue they stayed up just fine.\",\n",
       " 'reviewTime': '06 17, 2013',\n",
       " 'reviewerID': 'U991841502',\n",
       " 'summary': 'You will definitely need some sock glue',\n",
       " 'unixReviewTime': 1371427200}"
      ]
     },
     "execution_count": 104,
     "metadata": {},
     "output_type": "execute_result"
    }
   ],
   "source": [
    "a"
   ]
  },
  {
   "cell_type": "code",
   "execution_count": 105,
   "metadata": {},
   "outputs": [],
   "source": [
    "a = [1,2,3]\n",
    "a = a[1:]"
   ]
  },
  {
   "cell_type": "code",
   "execution_count": 106,
   "metadata": {},
   "outputs": [
    {
     "data": {
      "text/plain": [
       "[2, 3]"
      ]
     },
     "execution_count": 106,
     "metadata": {},
     "output_type": "execute_result"
    }
   ],
   "source": [
    "a"
   ]
  },
  {
   "cell_type": "code",
   "execution_count": null,
   "metadata": {},
   "outputs": [],
   "source": []
  }
 ],
 "metadata": {
  "kernelspec": {
   "display_name": "Python 2",
   "language": "python",
   "name": "python2"
  },
  "language_info": {
   "codemirror_mode": {
    "name": "ipython",
    "version": 2
   },
   "file_extension": ".py",
   "mimetype": "text/x-python",
   "name": "python",
   "nbconvert_exporter": "python",
   "pygments_lexer": "ipython2",
   "version": "2.7.15"
  }
 },
 "nbformat": 4,
 "nbformat_minor": 2
}
