{
  "cells": [
    {
      "metadata": {
        "_uuid": "8f2839f25d086af736a60e9eeb907d3b93b6e0e5",
        "_cell_guid": "b1076dfc-b9ad-4769-8c92-a6c4dae69d19",
        "trusted": true
      },
      "cell_type": "code",
      "source": "# This Python 3 environment comes with many helpful analytics libraries installed\n# It is defined by the kaggle/python docker image: https://github.com/kaggle/docker-python\n# For example, here's several helpful packages to load in \n\nimport numpy as np # linear algebra\nimport pandas as pd # data processing, CSV file I/O (e.g. pd.read_csv)\nimport lightgbm as lgb\nfrom sklearn.model_selection import train_test_split\nfrom sklearn.metrics import accuracy_score\nfrom sklearn import linear_model\nfrom sklearn.metrics import mean_absolute_error\nfrom sklearn.neural_network import MLPClassifier, MLPRegressor\nimport lightgbm as lgb\nfrom sklearn.model_selection import train_test_split\nfrom sklearn.metrics import accuracy_score\n# Input data files are available in the \"../input/\" directory.\n# For example, running this (by clicking run or pressing Shift+Enter) will list the files in the input directory\n\nimport os\nprint(os.listdir(\"../input\"))\n\n# Any results you write to the current directory are saved as output.",
      "execution_count": null,
      "outputs": []
    },
    {
      "metadata": {
        "_cell_guid": "79c7e3d0-c299-4dcb-8224-4455121ee9b0",
        "collapsed": true,
        "_uuid": "d629ff2d2480ee46fbb7e2d37f6b5fab8052498a",
        "trusted": false
      },
      "cell_type": "code",
      "source": "train = pd.read_csv('../input/train_V2.csv')\ntest = pd.read_csv('../input/test_V2.csv')",
      "execution_count": null,
      "outputs": []
    },
    {
      "metadata": {
        "trusted": true,
        "_uuid": "850a5b226c107629e195429947b96bb442bcdff7"
      },
      "cell_type": "code",
      "source": "train.drop(2744604, inplace=True)",
      "execution_count": null,
      "outputs": []
    },
    {
      "metadata": {
        "trusted": true,
        "_uuid": "dc2f28b6563d7b4d2865ecdbd8776cd7917777b0"
      },
      "cell_type": "code",
      "source": "train_Id=train['Id']\ntrain=train.drop(['Id','groupId','matchId','matchType'], axis=1)\ntrain=train.fillna(train.mean())\n\n    \nX_train=train.drop(['winPlacePerc'], axis=1)\ny_train=train['winPlacePerc']\ntest_Id=test['Id']\ntest=test.drop(['Id','groupId','matchId','matchType'], axis=1)\nX_test=test.fillna(test.mean())",
      "execution_count": null,
      "outputs": []
    },
    {
      "metadata": {
        "trusted": true,
        "_uuid": "7dc5b398cf0973cfd11968c9bbc16bfbdbf1a6e2"
      },
      "cell_type": "code",
      "source": "d_train = lgb.Dataset(X_train, label=y_train)",
      "execution_count": null,
      "outputs": []
    },
    {
      "metadata": {
        "trusted": true,
        "_uuid": "64640f6152d7ebaefe928f6e64a162035ca857a8"
      },
      "cell_type": "code",
      "source": "params = {}\nparams['objective'] = 'regression'\nparams['metric'] = 'mae'",
      "execution_count": null,
      "outputs": []
    },
    {
      "metadata": {
        "trusted": true,
        "_uuid": "2fe63b7f20fe4f407114bb8f602e7c137a5ba3b0"
      },
      "cell_type": "code",
      "source": "model = lgb.train(params, d_train)\nlgb.plot_importance(model)",
      "execution_count": null,
      "outputs": []
    },
    {
      "metadata": {
        "trusted": true,
        "_uuid": "e222b07ab00d71791db2ed763e7375ea9a050067"
      },
      "cell_type": "code",
      "source": "lgb.create_tree_digraph(model)",
      "execution_count": null,
      "outputs": []
    },
    {
      "metadata": {
        "trusted": true,
        "_uuid": "1c103e1f9f57604970d1c1e457d64fd485f31f97"
      },
      "cell_type": "code",
      "source": "Y_test=model.predict(X_test)\ny_pred=pd.DataFrame(Y_test)\nresult = pd.concat([test_Id,y_pred],axis=1)\nresult.columns=['Id','winPlacePerc']\nprint(result)",
      "execution_count": null,
      "outputs": []
    },
    {
      "metadata": {
        "trusted": true,
        "_uuid": "7a9e0baac7bb0befb39b056a80c51b0c678ac440"
      },
      "cell_type": "code",
      "source": "result.to_csv('submission.csv', index=False)",
      "execution_count": null,
      "outputs": []
    }
  ],
  "metadata": {
    "kernelspec": {
      "display_name": "Python 3",
      "language": "python",
      "name": "python3"
    },
    "language_info": {
      "name": "python",
      "version": "3.6.6",
      "mimetype": "text/x-python",
      "codemirror_mode": {
        "name": "ipython",
        "version": 3
      },
      "pygments_lexer": "ipython3",
      "nbconvert_exporter": "python",
      "file_extension": ".py"
    }
  },
  "nbformat": 4,
  "nbformat_minor": 1
}