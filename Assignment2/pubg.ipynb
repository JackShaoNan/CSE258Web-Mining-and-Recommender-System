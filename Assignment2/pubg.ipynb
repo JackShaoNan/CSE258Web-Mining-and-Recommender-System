{
 "cells": [
  {
   "cell_type": "code",
   "execution_count": 1,
   "metadata": {},
   "outputs": [],
   "source": [
    "import numpy\n",
    "import urllib\n",
    "import scipy.optimize\n",
    "import random\n",
    "\n",
    "def parseData(fname):\n",
    "  for l in urllib.urlopen(fname):\n",
    "    yield eval(l)"
   ]
  },
  {
   "cell_type": "code",
   "execution_count": 3,
   "metadata": {},
   "outputs": [
    {
     "name": "stdout",
     "output_type": "stream",
     "text": [
      "['Id', 'groupId', 'matchId', 'assists', 'boosts', 'damageDealt', 'DBNOs', 'headshotKills', 'heals', 'killPlace', 'killPoints', 'kills', 'killStreaks', 'longestKill', 'matchDuration', 'matchType', 'maxPlace', 'numGroups', 'rankPoints', 'revives', 'rideDistance', 'roadKills', 'swimDistance', 'teamKills', 'vehicleDestroys', 'walkDistance', 'weaponsAcquired', 'winPoints', 'winPlacePerc']\n",
      "('out0=', <type 'numpy.ndarray'>, (4446967, 29))\n",
      "('out1=', array([['Id', 'groupId', 'matchId', ..., 'weaponsAcquired', 'winPoints',\n",
      "        'winPlacePerc'],\n",
      "       ['7f96b2f878858a', '4d4b580de459be', 'a10357fd1a4a91', ..., '1',\n",
      "        '1466', '0.4444'],\n",
      "       ['eef90569b9d03c', '684d5656442f9e', 'aeb375fc57110c', ..., '5',\n",
      "        '0', '0.6400'],\n",
      "       ...,\n",
      "       ['e1948b1295c88a', 'e26ac84bdf7cef', '6d0cd12784f1ab', ..., '4',\n",
      "        '0', '0.4815'],\n",
      "       ['cc032cdd73b7ac', 'c2223f35411394', 'c9c701d0ad758a', ..., '8',\n",
      "        '0', '0.8000'],\n",
      "       ['0d8e7ed728b6fd', '8c74f72fedf5ff', '62a16aabcc095c', ..., '5',\n",
      "        '0', '0.5464']], dtype='|S16'))\n"
     ]
    }
   ],
   "source": [
    "import csv\n",
    "import numpy as np\n",
    "with open('train_V2.csv','r') as csvfile:\n",
    "    reader = csv.reader(csvfile)\n",
    "    rows= [row for row in reader]\n",
    "data=np.array(rows)\n",
    "print(\"out0=\",type(data),data.shape)\n",
    "print(\"out1=\",data)"
   ]
  },
  {
   "cell_type": "code",
   "execution_count": 33,
   "metadata": {},
   "outputs": [],
   "source": [
    "# di = data.where('damageDealt')\n",
    "# di\n",
    "di = data[0].index('damageDealt')\n",
    "hi = data[0].index('headshotKills')\n",
    "k1i = data[0].index('killPlace')\n",
    "k2i = data[0].index('killStreaks')\n",
    "r1i = data[0].index('rideDistance')\n",
    "r2i = data[0].index('roadKills')\n",
    "si = data[0].index('swimDistance')\n",
    "vi = data[0].index('vehicleDestroys')\n",
    "w1i = data[0].index('walkDistance')\n",
    "w2i = data[0].index('weaponsAcquired')\n",
    "w3i = data[0].index('winPlacePerc')"
   ]
  },
  {
   "cell_type": "code",
   "execution_count": 60,
   "metadata": {},
   "outputs": [
    {
     "data": {
      "text/plain": [
       "list"
      ]
     },
     "execution_count": 60,
     "metadata": {},
     "output_type": "execute_result"
    }
   ],
   "source": [
    "type(data[0])"
   ]
  },
  {
   "cell_type": "code",
   "execution_count": 34,
   "metadata": {},
   "outputs": [],
   "source": [
    "# the input data features:\n",
    "# damageDealt, headshotKills, killPlace, killStreaks, rideDistance,\n",
    "# roadKills, swimDistance, vehicleDestroys, walkDistance, weaponsAcquired\n",
    "\n",
    "def feature(datam):\n",
    "    feat = [1]\n",
    "    feat.append(float(datam[di]))\n",
    "    feat.append(float(datam[hi]))\n",
    "    feat.append(float(datam[k1i]))\n",
    "    feat.append(float(datam[k2i]))\n",
    "    feat.append(float(datam[r1i]))\n",
    "    feat.append(float(datam[r2i]))\n",
    "    feat.append(float(datam[si]))\n",
    "    feat.append(float(datam[vi]))\n",
    "    feat.append(float(datam[w1i]))\n",
    "    feat.append(float(datam[w2i]))\n",
    "    return feat"
   ]
  },
  {
   "cell_type": "code",
   "execution_count": 44,
   "metadata": {},
   "outputs": [
    {
     "data": {
      "text/plain": [
       "array([ 7.27904715e-01,  3.40671063e-05, -2.12105262e-03, -7.51993221e-03,\n",
       "       -1.54769966e-01,  1.00394903e-05,  1.81709066e-02,  1.52711893e-04,\n",
       "       -2.34040960e-03,  1.20310170e-04,  1.02155182e-02])"
      ]
     },
     "execution_count": 44,
     "metadata": {},
     "output_type": "execute_result"
    }
   ],
   "source": [
    "X = []\n",
    "Y = []\n",
    "for i in range(1,4446967):\n",
    "    if data[i][0] != 'f70c74418bb064':\n",
    "        X.append(feature(data[i]))\n",
    "        Y.append(float(data[i][w3i]))\n",
    "theta,residuals,rank,s = numpy.linalg.lstsq(X, Y, rcond = -1)\n",
    "theta"
   ]
  },
  {
   "cell_type": "code",
   "execution_count": 49,
   "metadata": {},
   "outputs": [],
   "source": [
    "from sklearn.metrics import mean_squared_error\n",
    "Y_predict = [sum(np.multiply(theta,x)) for x in X]"
   ]
  },
  {
   "cell_type": "code",
   "execution_count": 50,
   "metadata": {},
   "outputs": [
    {
     "data": {
      "text/plain": [
       "0.019134719394300358"
      ]
     },
     "execution_count": 50,
     "metadata": {},
     "output_type": "execute_result"
    }
   ],
   "source": [
    "mean_squared_error(Y, Y_predict)"
   ]
  },
  {
   "cell_type": "code",
   "execution_count": 51,
   "metadata": {},
   "outputs": [],
   "source": [
    "with open('test_V2.csv','r') as csvfile:\n",
    "    reader = csv.reader(csvfile)\n",
    "    rows= [row for row in reader]\n",
    "test_data=np.array(rows)"
   ]
  },
  {
   "cell_type": "code",
   "execution_count": 58,
   "metadata": {},
   "outputs": [],
   "source": [
    "with open(\"testsn.csv\",\"w\") as csvfile: \n",
    "    writer = csv.writer(csvfile)\n",
    "\n",
    "    #先写入columns_name\n",
    "    writer.writerow([\"Id\",\"winPlacePerc\"])\n",
    "    #写入多行用writerows\n",
    "    for i in range(1,len(test_data)):\n",
    "        x = feature(test_data[i])\n",
    "        pred = sum(np.multiply(theta,x))\n",
    "        writer.writerow([test_data[i][0], pred])\n"
   ]
  },
  {
   "cell_type": "code",
   "execution_count": 55,
   "metadata": {},
   "outputs": [
    {
     "data": {
      "text/plain": [
       "array(['Id', 'groupId', 'matchId', 'assists', 'boosts', 'damageDealt',\n",
       "       'DBNOs', 'headshotKills', 'heals', 'killPlace', 'killPoints',\n",
       "       'kills', 'killStreaks', 'longestKill', 'matchDuration',\n",
       "       'matchType', 'maxPlace', 'numGroups', 'rankPoints', 'revives',\n",
       "       'rideDistance', 'roadKills', 'swimDistance', 'teamKills',\n",
       "       'vehicleDestroys', 'walkDistance', 'weaponsAcquired', 'winPoints'],\n",
       "      dtype='|S16')"
      ]
     },
     "execution_count": 55,
     "metadata": {},
     "output_type": "execute_result"
    }
   ],
   "source": [
    "test_data[0]"
   ]
  },
  {
   "cell_type": "code",
   "execution_count": 10,
   "metadata": {},
   "outputs": [
    {
     "data": {
      "text/plain": [
       "array(['Id', 'groupId', 'matchId', 'assists', 'boosts', 'damageDealt',\n",
       "       'DBNOs', 'headshotKills', 'heals', 'killPlace', 'killPoints',\n",
       "       'kills', 'killStreaks', 'longestKill', 'matchDuration',\n",
       "       'matchType', 'maxPlace', 'numGroups', 'rankPoints', 'revives',\n",
       "       'rideDistance', 'roadKills', 'swimDistance', 'teamKills',\n",
       "       'vehicleDestroys', 'walkDistance', 'weaponsAcquired', 'winPoints',\n",
       "       'winPlacePerc'], dtype='|S16')"
      ]
     },
     "execution_count": 10,
     "metadata": {},
     "output_type": "execute_result"
    }
   ],
   "source": [
    "data[0]"
   ]
  },
  {
   "cell_type": "code",
   "execution_count": 16,
   "metadata": {},
   "outputs": [
    {
     "data": {
      "text/plain": [
       "array(['7f96b2f878858a', '4d4b580de459be', 'a10357fd1a4a91', '0', '0',\n",
       "       '0.0000', '0', '0', '0', '60', '1241', '0', '0', '0.0000', '1306',\n",
       "       'squad-fpp', '28', '26', '-1', '0', '0.0000', '0', '0.0000', '0',\n",
       "       '0', '244.8000', '1', '1466', '0.4444'], dtype='|S16')"
      ]
     },
     "execution_count": 16,
     "metadata": {},
     "output_type": "execute_result"
    }
   ],
   "source": [
    "data[1]"
   ]
  },
  {
   "cell_type": "code",
   "execution_count": 22,
   "metadata": {},
   "outputs": [
    {
     "data": {
      "text/plain": [
       "'0.0000'"
      ]
     },
     "execution_count": 22,
     "metadata": {},
     "output_type": "execute_result"
    }
   ],
   "source": [
    "data[1][5]"
   ]
  },
  {
   "cell_type": "code",
   "execution_count": 28,
   "metadata": {},
   "outputs": [],
   "source": [
    "a234i = float('0.234')"
   ]
  },
  {
   "cell_type": "code",
   "execution_count": 29,
   "metadata": {},
   "outputs": [
    {
     "data": {
      "text/plain": [
       "0.234"
      ]
     },
     "execution_count": 29,
     "metadata": {},
     "output_type": "execute_result"
    }
   ],
   "source": [
    "a234i"
   ]
  },
  {
   "cell_type": "code",
   "execution_count": null,
   "metadata": {},
   "outputs": [],
   "source": []
  }
 ],
 "metadata": {
  "kernelspec": {
   "display_name": "Python 2",
   "language": "python",
   "name": "python2"
  },
  "language_info": {
   "codemirror_mode": {
    "name": "ipython",
    "version": 2
   },
   "file_extension": ".py",
   "mimetype": "text/x-python",
   "name": "python",
   "nbconvert_exporter": "python",
   "pygments_lexer": "ipython2",
   "version": "2.7.15"
  }
 },
 "nbformat": 4,
 "nbformat_minor": 2
}
