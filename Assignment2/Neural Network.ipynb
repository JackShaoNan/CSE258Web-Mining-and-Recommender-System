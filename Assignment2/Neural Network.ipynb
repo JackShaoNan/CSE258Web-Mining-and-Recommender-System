{
  "cells": [
    {
      "metadata": {
        "_uuid": "8f2839f25d086af736a60e9eeb907d3b93b6e0e5",
        "_cell_guid": "b1076dfc-b9ad-4769-8c92-a6c4dae69d19",
        "trusted": true
      },
      "cell_type": "code",
      "source": "# This Python 3 environment comes with many helpful analytics libraries installed\n# It is defined by the kaggle/python docker image: https://github.com/kaggle/docker-python\n# For example, here's several helpful packages to load in \n\nimport numpy as np # linear algebra\nimport pandas as pd # data processing, CSV file I/O (e.g. pd.read_csv)\nimport lightgbm as lgb\nfrom sklearn.model_selection import train_test_split\nfrom sklearn.metrics import accuracy_score\nfrom sklearn import linear_model\nfrom sklearn.metrics import mean_absolute_error\nfrom sklearn.neural_network import MLPClassifier, MLPRegressor\n\n# Input data files are available in the \"../input/\" directory.\n# For example, running this (by clicking run or pressing Shift+Enter) will list the files in the input directory\n\nimport os\nprint(os.listdir(\"../input\"))\n\n# Any results you write to the current directory are saved as output.",
      "execution_count": null,
      "outputs": []
    },
    {
      "metadata": {
        "_cell_guid": "79c7e3d0-c299-4dcb-8224-4455121ee9b0",
        "collapsed": true,
        "_uuid": "d629ff2d2480ee46fbb7e2d37f6b5fab8052498a",
        "trusted": false
      },
      "cell_type": "code",
      "source": "train = pd.read_csv('../input/train_V2.csv')\ntest = pd.read_csv('../input/test_V2.csv')",
      "execution_count": null,
      "outputs": []
    },
    {
      "metadata": {
        "trusted": true,
        "_uuid": "ba163261e221801ff01536f775c73d94c896c575"
      },
      "cell_type": "code",
      "source": "train_Id=train['Id']\ntrain=train.drop(['Id','groupId','matchId','matchType'], axis=1)\ntrain=train.fillna(train.mean())\n\n    \nX_train=train.drop(['winPlacePerc'], axis=1)\ny_train=train['winPlacePerc']\ntest_Id=test['Id']\ntest=test.drop(['Id','groupId','matchId','matchType'], axis=1)\nX_test=test.fillna(test.mean())",
      "execution_count": null,
      "outputs": []
    },
    {
      "metadata": {
        "trusted": true,
        "_uuid": "4148366a7d022af7caeeae3a44a12e97533b7244"
      },
      "cell_type": "code",
      "source": "mlp = MLPRegressor(solver='adam',hidden_layer_sizes=(10,10,10),alpha=0.1, random_state=1)\n\nmlp.fit(X_train,y_train)\n\ny_test = mlp.predict(X_test)",
      "execution_count": null,
      "outputs": []
    },
    {
      "metadata": {
        "trusted": true,
        "_uuid": "11f12a100dc26647c908dd557132e96584a53da4"
      },
      "cell_type": "code",
      "source": "y_pred = pd.DataFrame(y_test)\nresult = pd.concat([test_Id,y_pred],axis=1)\nresult.columns=['Id','winPlacePerc']\nprint(result)",
      "execution_count": null,
      "outputs": []
    },
    {
      "metadata": {
        "trusted": true,
        "_uuid": "bc46b9c9b6ded8029b6ba72a12b5a7e81c2bc27e"
      },
      "cell_type": "code",
      "source": "result.to_csv('submission.csv', index=False)",
      "execution_count": null,
      "outputs": []
    }
  ],
  "metadata": {
    "kernelspec": {
      "display_name": "Python 3",
      "language": "python",
      "name": "python3"
    },
    "language_info": {
      "name": "python",
      "version": "3.6.6",
      "mimetype": "text/x-python",
      "codemirror_mode": {
        "name": "ipython",
        "version": 3
      },
      "pygments_lexer": "ipython3",
      "nbconvert_exporter": "python",
      "file_extension": ".py"
    }
  },
  "nbformat": 4,
  "nbformat_minor": 1
}